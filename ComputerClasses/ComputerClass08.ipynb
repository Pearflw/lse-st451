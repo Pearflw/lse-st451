{
 "cells": [
  {
   "cell_type": "markdown",
   "metadata": {},
   "source": [
    "# LSE ST451: Bayesian Machine Learning\n",
    "## Author: Kostas Kalogeropoulos\n",
    "\n",
    "## Week 8: Markov Chain Monte Carlo / Bayesian Sparse Linear Regression\n",
    "\n",
    "Topics covered \n",
    " - Sampling from the posterior using the Gibbs Sampler in Python\n",
    " - Presenting the output of a Markov Chain Monte Carlo (MCMC) ouput \n",
    " - Using Hamiltonian MCMC to sample from the posterior using Stan\n",
    " - Presenting MCMC output in Stan\n",
    " - Bayesian Sparse Linear Regression with the *horseshoe* prior"
   ]
  },
  {
   "cell_type": "markdown",
   "metadata": {},
   "source": [
    "We will use standard Python libraries (that have been used before). For Stan we will continue in RStudio."
   ]
  },
  {
   "cell_type": "code",
   "execution_count": 31,
   "metadata": {},
   "outputs": [],
   "source": [
    "import numpy as np\n",
    "import pandas as pd\n",
    "import matplotlib.pyplot as plt\n",
    "%matplotlib inline\n",
    "from sklearn.linear_model import LinearRegression\n",
    "from sklearn.linear_model import Ridge\n",
    "from sklearn.linear_model import Lasso\n",
    "from sklearn.model_selection import train_test_split"
   ]
  },
  {
   "cell_type": "markdown",
   "metadata": {},
   "source": [
    "### Gibbs sampler\n",
    "\n",
    "We will first code a Gibbs Sampler for the model where $y=(y_1,\\dots,y_n)$ are independent $N(\\mu,\n",
    "\\sigma^2)$ random variables with both $\\mu$ and $\\sigma^2$ unknown.\n",
    "\n",
    "We will assign the $N(0,\\omega^2)$ prior on $\\mu$ and the $IGamma(\\alpha,\\beta)$ prior on $\\sigma^2$.\n",
    "\n",
    "Then we get that \n",
    "\n",
    "$$\n",
    "\\mu |y,\\sigma^2 \\sim N\\left(\\frac{\\omega^2\\bar{y}}{\\omega^2 + \\sigma^2/n},\\frac{\\omega^2 \\sigma^2/n}{\\omega^2 + \\sigma^2/n}\\right)\n",
    "$$\n",
    "and\n",
    "$$\n",
    "\\sigma^2|y,\\mu \\sim IGamma (n/2+\\alpha, \\beta+\\frac{\\sum_{i=1}^{n}(y_i-\\bar{y})^2+n(\\bar{y}-\\theta)^2}{2})\n",
    "$$"
   ]
  },
  {
   "cell_type": "markdown",
   "metadata": {},
   "source": [
    "#### First we simulate data"
   ]
  },
  {
   "cell_type": "code",
   "execution_count": 7,
   "metadata": {},
   "outputs": [
    {
     "name": "stdout",
     "output_type": "stream",
     "text": [
      "data: [5.10112341 5.99990267 3.00818214 6.38719702 4.16339696 1.83084553\n",
      " 3.70458647 6.19715035 5.66450007 2.70504673 6.23733938 4.82402614\n",
      " 5.85014479 5.66450629 2.68636748 5.70199431 3.78622543 8.09395866\n",
      " 6.44668322 5.09227113 3.03401669 5.10886548 5.31978587 2.58210368\n",
      " 9.44672043 5.78859043 8.38471543 2.77437569 8.27149508 2.27806882\n",
      " 3.69754833 6.08490262 5.09601249 0.28385273 2.78883191 6.67567271\n",
      " 9.17574174 6.82968192 4.44759329 6.5930238  2.71240286 6.01983957\n",
      " 2.30507941 4.9812798  4.73859072 6.60417323 4.39407207 7.40400518\n",
      " 4.60650944 6.6730574  6.57320457 1.31824827 5.07509497 5.0718561\n",
      " 3.44252015 5.35882143 2.08893135 6.11237045 6.01955771 5.60089109\n",
      " 9.95316832 5.70468679 5.134942   3.5354706  5.59428242 3.0764464\n",
      " 7.54363723 3.70471093 5.31693907 8.98016603 7.32837512 5.48532032\n",
      " 7.75984019 4.89088259 6.5904679  5.03817992 3.18912373 5.86054266\n",
      " 6.86930013 4.30779626 2.80575623 3.94360786 0.24044945 3.78463262\n",
      " 2.84941982 9.04481013 3.87024941 1.9141419  6.74168356 4.64957895\n",
      " 5.09720601 5.37729241 5.41862698 4.25111017 6.90939719 6.04649533\n",
      " 4.00836296 4.65707078 3.1112628  5.56172935]\n",
      "sample mean: 5.070547155947767\n",
      "sample variance: 3.8244883511126635\n"
     ]
    }
   ],
   "source": [
    "#Simulate data to check the Gibbs sampler\n",
    "n = 100 #sample size\n",
    "sigma_true = 2\n",
    "sigma2_true = sigma_true**2\n",
    "mu_true = 5\n",
    "np.random.seed(4)\n",
    "y = mu_true + np.random.randn(n)*sigma_true\n",
    "ybar = np.mean(y)\n",
    "S2 = np.sum((y-ybar)**2)\n",
    "print('data:',y)\n",
    "print('sample mean:',ybar)\n",
    "print('sample variance:',S2/(n-1))"
   ]
  },
  {
   "cell_type": "markdown",
   "metadata": {},
   "source": [
    "#### Now we run the Gibbs sampler "
   ]
  },
  {
   "cell_type": "code",
   "execution_count": 8,
   "metadata": {},
   "outputs": [],
   "source": [
    "N = 10000 # number of iterations\n",
    "\n",
    "#create object mus and sigma2s to store the Markov chain samples, \n",
    "#with $\\pi(\\theta,\\sigma^2|y)$ as stationary distribution\n",
    "out_mu = np.zeros(N)\n",
    "out_sigma2 = np.zeros(N)\n",
    "\n",
    "#Set prior parameters\n",
    "omega2 = 1000\n",
    "alpha = 0.1\n",
    "beta = 0.1\n",
    "\n",
    "#Set initial values for mu and sigma2\n",
    "mu = 20\n",
    "sigma2 = 10\n",
    "\n",
    "for i in range(N):\n",
    "    #Store current value of the chain (mu,sigma2)\n",
    "    out_mu[i] = mu\n",
    "    out_sigma2[i] = sigma2\n",
    "    \n",
    "    #Draw mu given y and sigma2\n",
    "    denominator = omega2 + (sigma2/n)\n",
    "    M = omega2*ybar/denominator          #Mean of the full conditional of mu\n",
    "    V = omega2*(sigma2/n)/denominator    #Variance of the full conditional of mu \n",
    "    mu = M + np.sqrt(V)*np.random.randn(1)  #Draw from the full conditional of mu\n",
    "    \n",
    "    #Draw sigma2 given y and mu\n",
    "    A = 0.5*n + alpha                  #A parameter of the full conditional of sigma2\n",
    "    B = beta + 0.5*(S2+ n*((ybar-mu)**2)) #B parameter of the full conditional of sigma2\n",
    "    sigma2 = 1/np.random.gamma(A, 1/B, 1)"
   ]
  },
  {
   "cell_type": "code",
   "execution_count": 9,
   "metadata": {},
   "outputs": [
    {
     "data": {
      "text/plain": [
       "<matplotlib.legend.Legend at 0x1223c6860>"
      ]
     },
     "execution_count": 9,
     "metadata": {},
     "output_type": "execute_result"
    },
    {
     "data": {
      "image/png": "[encoded data removed]",
      "text/plain": [
       "<Figure size 432x288 with 1 Axes>"
      ]
     },
     "metadata": {
      "needs_background": "light"
     },
     "output_type": "display_data"
    }
   ],
   "source": [
    "plt.plot(out_mu,label='posterior traceplot of mu')\n",
    "plt.plot(np.ones(N)*mu_true,label='\"true\" value of mu')\n",
    "plt.legend()"
   ]
  },
  {
   "cell_type": "code",
   "execution_count": 10,
   "metadata": {},
   "outputs": [
    {
     "data": {
      "text/plain": [
       "<matplotlib.legend.Legend at 0x110fac470>"
      ]
     },
     "execution_count": 10,
     "metadata": {},
     "output_type": "execute_result"
    },
    {
     "data": {
      "image/png": "[encoded data removed]",
      "text/plain": [
       "<Figure size 432x288 with 1 Axes>"
      ]
     },
     "metadata": {
      "needs_background": "light"
     },
     "output_type": "display_data"
    }
   ],
   "source": [
    "plt.plot(out_sigma2,label='posterior traceplot of sigma2')\n",
    "plt.plot(np.ones(N)*sigma2_true,label='\"true\" value of sigma2')\n",
    "plt.legend()"
   ]
  },
  {
   "cell_type": "code",
   "execution_count": 11,
   "metadata": {},
   "outputs": [
    {
     "data": {
      "text/html": [
       "<div>\n",
       "<style scoped>\n",
       "    .dataframe tbody tr th:only-of-type {\n",
       "        vertical-align: middle;\n",
       "    }\n",
       "\n",
       "    .dataframe tbody tr th {\n",
       "        vertical-align: top;\n",
       "    }\n",
       "\n",
       "    .dataframe thead th {\n",
       "        text-align: right;\n",
       "    }\n",
       "</style>\n",
       "<table border=\"1\" class=\"dataframe\">\n",
       "  <thead>\n",
       "    <tr style=\"text-align: right;\">\n",
       "      <th></th>\n",
       "      <th>Posterior mean</th>\n",
       "      <th>Posterior median</th>\n",
       "      <th>Posterior 2.5% point</th>\n",
       "      <th>Posterior 97.5% point</th>\n",
       "    </tr>\n",
       "  </thead>\n",
       "  <tbody>\n",
       "    <tr>\n",
       "      <th>mu</th>\n",
       "      <td>5.070</td>\n",
       "      <td>5.069</td>\n",
       "      <td>4.685</td>\n",
       "      <td>5.448</td>\n",
       "    </tr>\n",
       "    <tr>\n",
       "      <th>sigma2</th>\n",
       "      <td>3.907</td>\n",
       "      <td>3.857</td>\n",
       "      <td>2.946</td>\n",
       "      <td>5.200</td>\n",
       "    </tr>\n",
       "  </tbody>\n",
       "</table>\n",
       "</div>"
      ],
      "text/plain": [
       "        Posterior mean  Posterior median  Posterior 2.5% point  \\\n",
       "mu               5.070             5.069                 4.685   \n",
       "sigma2           3.907             3.857                 2.946   \n",
       "\n",
       "        Posterior 97.5% point  \n",
       "mu                      5.448  \n",
       "sigma2                  5.200  "
      ]
     },
     "execution_count": 11,
     "metadata": {},
     "output_type": "execute_result"
    }
   ],
   "source": [
    "#present the output via a pandas data frame\n",
    "mmu = np.mean(out_mu)\n",
    "medmu = np.median(out_mu)\n",
    "pctmu = np.percentile(out_mu,(2.5,97.5))\n",
    "msig = np.mean(out_sigma2)\n",
    "medsig = np.median(out_sigma2)\n",
    "pctsig = np.percentile(out_sigma2,(2.5,97.5))\n",
    "results = np.array([[mmu,medmu,pctmu[0],pctmu[1]],[msig,medsig,pctsig[0],pctsig[1]]]).round(3)\n",
    "col = ['Posterior mean','Posterior median','Posterior 2.5% point','Posterior 97.5% point']\n",
    "ind = ['mu','sigma2']\n",
    "results = pd.DataFrame(results,columns = col,index=ind)\n",
    "results"
   ]
  },
  {
   "cell_type": "markdown",
   "metadata": {},
   "source": [
    "### Activity 1\n",
    "\n",
    "Repeat for the model below\n",
    "\n",
    "$$\n",
    "y_i\\sim \\text{Poisson}(\\mu), \\;\\;i=1,...,N,\n",
    "$$\n",
    "with priors \n",
    "$$\n",
    "\\mu \\sim \\text{Gamma}(2,\\beta),\\;\\;\n",
    "\\beta \\sim \\text{Exponential}(1)\n",
    "$$\n",
    "\n",
    "It can be shown (good exercise) that the full conditionals for $\\mu,\\beta$ are \n",
    "\n",
    "$$\n",
    "\\mu| y,\\beta \\;\\sim\\;\\text{Gamma}(2 + \\sum_i y_i,n+\\beta)\n",
    "$$\n",
    "$$\n",
    "\\beta|y,\\mu\\;\\sim \\;\\text{Gamma}(3,1+\\mu)\n",
    "$$"
   ]
  },
  {
   "cell_type": "markdown",
   "metadata": {},
   "source": [
    "Put your code below"
   ]
  },
  {
   "cell_type": "code",
   "execution_count": 15,
   "metadata": {},
   "outputs": [
    {
     "name": "stdout",
     "output_type": "stream",
     "text": [
      "sample mean: 1.721\n",
      "mu : [1.73279742]\n"
     ]
    }
   ],
   "source": [
    "#Simulate data \n",
    "n = 1000 #sample size\n",
    "beta_true = 1\n",
    "np.random.seed(4)\n",
    "mu_true = np.random.gamma(2,1/beta_true,1)\n",
    "y = np.random.poisson(mu_true,n)\n",
    "ybar = np.mean(y)\n",
    "print('sample mean:',ybar)\n",
    "print('mu :', mu_true)"
   ]
  },
  {
   "cell_type": "code",
   "execution_count": 16,
   "metadata": {},
   "outputs": [],
   "source": [
    "# Run the Gibbs sampler\n",
    "N = 10000 # number of iterations\n",
    "\n",
    "#create object mus and sigma2s to store the Markov chain samples, \n",
    "#with $\\pi(\\theta,\\sigma^2|y)$ as stationary distribution\n",
    "out_mu = np.zeros(N)\n",
    "out_beta = np.zeros(N)\n",
    "\n",
    "#Set parameter of mu full conditional\n",
    "alpha_m = 2+np.sum(y)\n",
    "\n",
    "#Set initial values for mu and sigma2\n",
    "mu = 4\n",
    "beta = 10\n",
    "\n",
    "for i in range(N):\n",
    "    #Store current value of the chain (mu,beta)\n",
    "    out_mu[i] = mu\n",
    "    out_beta[i] = beta\n",
    "    \n",
    "    #Draw mu given y and beta\n",
    "    mu = np.random.gamma(alpha_m,1/(n+beta),1)  #Draw from the full conditional of mu\n",
    "    \n",
    "    #Draw beta given y and mu\n",
    "    beta = np.random.gamma(3, 1/(1+mu), 1)"
   ]
  },
  {
   "cell_type": "code",
   "execution_count": 17,
   "metadata": {},
   "outputs": [
    {
     "data": {
      "text/plain": [
       "<matplotlib.legend.Legend at 0x123066978>"
      ]
     },
     "execution_count": 17,
     "metadata": {},
     "output_type": "execute_result"
    },
    {
     "data": {
      "image/png": "[encoded data removed]",
      "text/plain": [
       "<Figure size 432x288 with 1 Axes>"
      ]
     },
     "metadata": {
      "needs_background": "light"
     },
     "output_type": "display_data"
    }
   ],
   "source": [
    "plt.plot(out_mu,label='posterior traceplot of mu')\n",
    "plt.plot(np.ones(N)*mu_true,label='\"true\" value of mu')\n",
    "plt.legend()"
   ]
  },
  {
   "cell_type": "code",
   "execution_count": 18,
   "metadata": {},
   "outputs": [
    {
     "data": {
      "text/plain": [
       "<matplotlib.legend.Legend at 0x1229112b0>"
      ]
     },
     "execution_count": 18,
     "metadata": {},
     "output_type": "execute_result"
    },
    {
     "data": {
      "image/png": "[encoded data removed]",
      "text/plain": [
       "<Figure size 432x288 with 1 Axes>"
      ]
     },
     "metadata": {
      "needs_background": "light"
     },
     "output_type": "display_data"
    }
   ],
   "source": [
    "plt.plot(out_beta,label='posterior traceplot of beta')\n",
    "plt.plot(np.ones(N)*beta_true,label='\"true\" value of beta')\n",
    "plt.legend()"
   ]
  },
  {
   "cell_type": "code",
   "execution_count": 19,
   "metadata": {},
   "outputs": [
    {
     "data": {
      "text/html": [
       "<div>\n",
       "<style scoped>\n",
       "    .dataframe tbody tr th:only-of-type {\n",
       "        vertical-align: middle;\n",
       "    }\n",
       "\n",
       "    .dataframe tbody tr th {\n",
       "        vertical-align: top;\n",
       "    }\n",
       "\n",
       "    .dataframe thead th {\n",
       "        text-align: right;\n",
       "    }\n",
       "</style>\n",
       "<table border=\"1\" class=\"dataframe\">\n",
       "  <thead>\n",
       "    <tr style=\"text-align: right;\">\n",
       "      <th></th>\n",
       "      <th>Posterior mean</th>\n",
       "      <th>Posterior median</th>\n",
       "      <th>Posterior 2.5% point</th>\n",
       "      <th>Posterior 97.5% point</th>\n",
       "    </tr>\n",
       "  </thead>\n",
       "  <tbody>\n",
       "    <tr>\n",
       "      <th>mu</th>\n",
       "      <td>1.721</td>\n",
       "      <td>1.721</td>\n",
       "      <td>1.642</td>\n",
       "      <td>1.803</td>\n",
       "    </tr>\n",
       "    <tr>\n",
       "      <th>beta</th>\n",
       "      <td>1.106</td>\n",
       "      <td>0.992</td>\n",
       "      <td>0.232</td>\n",
       "      <td>2.663</td>\n",
       "    </tr>\n",
       "  </tbody>\n",
       "</table>\n",
       "</div>"
      ],
      "text/plain": [
       "      Posterior mean  Posterior median  Posterior 2.5% point  \\\n",
       "mu             1.721             1.721                 1.642   \n",
       "beta           1.106             0.992                 0.232   \n",
       "\n",
       "      Posterior 97.5% point  \n",
       "mu                    1.803  \n",
       "beta                  2.663  "
      ]
     },
     "execution_count": 19,
     "metadata": {},
     "output_type": "execute_result"
    }
   ],
   "source": [
    "#present the output via a pandas data frame\n",
    "mmu = np.mean(out_mu)\n",
    "medmu = np.median(out_mu)\n",
    "pctmu = np.percentile(out_mu,(2.5,97.5))\n",
    "mbet = np.mean(out_beta)\n",
    "medbet = np.median(out_beta)\n",
    "pctbet = np.percentile(out_beta,(2.5,97.5))\n",
    "results = np.array([[mmu,medmu,pctmu[0],pctmu[1]],[mbet,medbet,pctbet[0],pctbet[1]]]).round(3)\n",
    "col = ['Posterior mean','Posterior median','Posterior 2.5% point','Posterior 97.5% point']\n",
    "ind = ['mu','beta']\n",
    "results = pd.DataFrame(results,columns = col,index=ind)\n",
    "results"
   ]
  },
  {
   "cell_type": "markdown",
   "metadata": {},
   "source": [
    "### Bayesian Sparse Linear Regression\n",
    "\n",
    "We will illustrate several Bayesian (or not) approaches to handle sparsity in linear regression on the diabetes dataset.\n",
    "\n",
    "Some info on the data is given below:\n",
    "\n",
    " - 442 diabetes patients\n",
    " - 10 main variables, x_1,...,x_{10} : age, gender, body mass index, average blood pressure (map), and six blood serum measurements (tc, ldl, hdl, tch, ltg, glu)\n",
    " - 45 interactions of the form xjxk\n",
    " - 9 quadratic effects of the form x_j^2 (gender is binary, so x^2=x_2^2)\n",
    " - measure of disease progression taken one year later, $y$\n",
    "\n",
    "We have a total of $p=64$ variables that we might use to predict $y$. It seems plausible that a subset of the variables will reliably predict $y$"
   ]
  },
  {
   "cell_type": "markdown",
   "metadata": {},
   "source": [
    "First we load the `diabetes.data.txt` file to get y"
   ]
  },
  {
   "cell_type": "code",
   "execution_count": 20,
   "metadata": {},
   "outputs": [
    {
     "data": {
      "text/html": [
       "<div>\n",
       "<style scoped>\n",
       "    .dataframe tbody tr th:only-of-type {\n",
       "        vertical-align: middle;\n",
       "    }\n",
       "\n",
       "    .dataframe tbody tr th {\n",
       "        vertical-align: top;\n",
       "    }\n",
       "\n",
       "    .dataframe thead th {\n",
       "        text-align: right;\n",
       "    }\n",
       "</style>\n",
       "<table border=\"1\" class=\"dataframe\">\n",
       "  <thead>\n",
       "    <tr style=\"text-align: right;\">\n",
       "      <th></th>\n",
       "      <th>AGE</th>\n",
       "      <th>SEX</th>\n",
       "      <th>BMI</th>\n",
       "      <th>BP</th>\n",
       "      <th>S1</th>\n",
       "      <th>S2</th>\n",
       "      <th>S3</th>\n",
       "      <th>S4</th>\n",
       "      <th>S5</th>\n",
       "      <th>S6</th>\n",
       "      <th>Y</th>\n",
       "    </tr>\n",
       "  </thead>\n",
       "  <tbody>\n",
       "    <tr>\n",
       "      <th>0</th>\n",
       "      <td>59</td>\n",
       "      <td>2</td>\n",
       "      <td>32.1</td>\n",
       "      <td>101.0</td>\n",
       "      <td>157</td>\n",
       "      <td>93.2</td>\n",
       "      <td>38.0</td>\n",
       "      <td>4.0</td>\n",
       "      <td>4.8598</td>\n",
       "      <td>87</td>\n",
       "      <td>151</td>\n",
       "    </tr>\n",
       "    <tr>\n",
       "      <th>1</th>\n",
       "      <td>48</td>\n",
       "      <td>1</td>\n",
       "      <td>21.6</td>\n",
       "      <td>87.0</td>\n",
       "      <td>183</td>\n",
       "      <td>103.2</td>\n",
       "      <td>70.0</td>\n",
       "      <td>3.0</td>\n",
       "      <td>3.8918</td>\n",
       "      <td>69</td>\n",
       "      <td>75</td>\n",
       "    </tr>\n",
       "    <tr>\n",
       "      <th>2</th>\n",
       "      <td>72</td>\n",
       "      <td>2</td>\n",
       "      <td>30.5</td>\n",
       "      <td>93.0</td>\n",
       "      <td>156</td>\n",
       "      <td>93.6</td>\n",
       "      <td>41.0</td>\n",
       "      <td>4.0</td>\n",
       "      <td>4.6728</td>\n",
       "      <td>85</td>\n",
       "      <td>141</td>\n",
       "    </tr>\n",
       "    <tr>\n",
       "      <th>3</th>\n",
       "      <td>24</td>\n",
       "      <td>1</td>\n",
       "      <td>25.3</td>\n",
       "      <td>84.0</td>\n",
       "      <td>198</td>\n",
       "      <td>131.4</td>\n",
       "      <td>40.0</td>\n",
       "      <td>5.0</td>\n",
       "      <td>4.8903</td>\n",
       "      <td>89</td>\n",
       "      <td>206</td>\n",
       "    </tr>\n",
       "    <tr>\n",
       "      <th>4</th>\n",
       "      <td>50</td>\n",
       "      <td>1</td>\n",
       "      <td>23.0</td>\n",
       "      <td>101.0</td>\n",
       "      <td>192</td>\n",
       "      <td>125.4</td>\n",
       "      <td>52.0</td>\n",
       "      <td>4.0</td>\n",
       "      <td>4.2905</td>\n",
       "      <td>80</td>\n",
       "      <td>135</td>\n",
       "    </tr>\n",
       "  </tbody>\n",
       "</table>\n",
       "</div>"
      ],
      "text/plain": [
       "   AGE  SEX   BMI     BP   S1     S2    S3   S4      S5  S6    Y\n",
       "0   59    2  32.1  101.0  157   93.2  38.0  4.0  4.8598  87  151\n",
       "1   48    1  21.6   87.0  183  103.2  70.0  3.0  3.8918  69   75\n",
       "2   72    2  30.5   93.0  156   93.6  41.0  4.0  4.6728  85  141\n",
       "3   24    1  25.3   84.0  198  131.4  40.0  5.0  4.8903  89  206\n",
       "4   50    1  23.0  101.0  192  125.4  52.0  4.0  4.2905  80  135"
      ]
     },
     "execution_count": 20,
     "metadata": {},
     "output_type": "execute_result"
    }
   ],
   "source": [
    "diabetesY = pd.read_csv('diabetes.data.txt',sep=\"\\t\")\n",
    "diabetesY.head()"
   ]
  },
  {
   "cell_type": "code",
   "execution_count": 27,
   "metadata": {},
   "outputs": [
    {
     "data": {
      "text/plain": [
       "(442,)"
      ]
     },
     "execution_count": 27,
     "metadata": {},
     "output_type": "execute_result"
    }
   ],
   "source": [
    "y = diabetesY['Y']\n",
    "y = (y - np.mean(y))/np.std(y)\n",
    "y.shape"
   ]
  },
  {
   "cell_type": "markdown",
   "metadata": {},
   "source": [
    "Then we load the `data64.txt` file to get X"
   ]
  },
  {
   "cell_type": "code",
   "execution_count": 28,
   "metadata": {},
   "outputs": [
    {
     "data": {
      "text/plain": [
       "(442, 64)"
      ]
     },
     "execution_count": 28,
     "metadata": {},
     "output_type": "execute_result"
    }
   ],
   "source": [
    "diabetesX = pd.read_csv('data64.txt', sep=\"\\t\")\n",
    "X = diabetesX.values\n",
    "X = (X - np.mean(X,axis=0))/np.std(X,axis=0)\n",
    "X.shape"
   ]
  },
  {
   "cell_type": "markdown",
   "metadata": {},
   "source": [
    "Split the data into train and test datasets."
   ]
  },
  {
   "cell_type": "code",
   "execution_count": 44,
   "metadata": {},
   "outputs": [
    {
     "data": {
      "text/plain": [
       "(100, 64)"
      ]
     },
     "execution_count": 44,
     "metadata": {},
     "output_type": "execute_result"
    }
   ],
   "source": [
    "X_train, X_test, y_train, y_test = train_test_split(X, y, test_size=100/442, random_state=5)\n",
    "X_test.shape"
   ]
  },
  {
   "cell_type": "markdown",
   "metadata": {},
   "source": [
    "Now we can start fitting models. We start with the **null model** (no covariates) and the **OLS** (all covariates)"
   ]
  },
  {
   "cell_type": "code",
   "execution_count": 45,
   "metadata": {},
   "outputs": [
    {
     "name": "stdout",
     "output_type": "stream",
     "text": [
      "null:  1.1065023419524171\n",
      "OLS:  0.5748341597912483\n"
     ]
    }
   ],
   "source": [
    "# Null model use the sample mean of y\n",
    "print('null: ',np.sum((y_test - np.mean(y_train))**2) / len(y_test))\n",
    "\n",
    "# OLS \n",
    "linreg = LinearRegression(fit_intercept=False,normalize=False)\n",
    "linreg.fit(X_train,y_train)\n",
    "y_pred = linreg.predict(X_test)\n",
    "print('OLS: ',np.sum((y_test - y_pred)**2) / len(y_test))"
   ]
  },
  {
   "cell_type": "markdown",
   "metadata": {},
   "source": [
    "Next we apply **Ridge** and **Lasso** regression. For each of these, we search for the penalty parameter that minimises the MSE and report that."
   ]
  },
  {
   "cell_type": "code",
   "execution_count": 46,
   "metadata": {},
   "outputs": [
    {
     "name": "stdout",
     "output_type": "stream",
     "text": [
      "Ridge:  0.5383502077256866  lambda:  21.0\n"
     ]
    }
   ],
   "source": [
    "# Ridge\n",
    "Lambdas = np.linspace(0.5,50,100)\n",
    "MSEs = np.zeros(100)\n",
    "for i in range(100):\n",
    "    ridgereg = Ridge(fit_intercept=False,normalize=False,alpha=Lambdas[i])\n",
    "    ridgereg.fit(X_train,y_train)\n",
    "    y_pred = ridgereg.predict(X_test)\n",
    "    MSEs[i] = np.sum((y_test - y_pred)**2) / len(y_test)\n",
    "print('Ridge: ',np.min(MSEs),' lambda: ',Lambdas[np.argmin(MSEs)])"
   ]
  },
  {
   "cell_type": "code",
   "execution_count": 47,
   "metadata": {},
   "outputs": [
    {
     "name": "stdout",
     "output_type": "stream",
     "text": [
      "Lasso:  0.510388993423529  lambda:  0.04\n"
     ]
    }
   ],
   "source": [
    "# Lasso\n",
    "Lambdas = np.linspace(1e-2,1,100)\n",
    "MSEs = np.zeros(100)\n",
    "for i in range(100):\n",
    "    lassoreg = Lasso(fit_intercept=False,normalize=False,alpha=Lambdas[i])\n",
    "    lassoreg.fit(X_train,y_train)\n",
    "    y_pred = lassoreg.predict(X_test)\n",
    "    MSEs[i] = np.sum((y_test - y_pred)**2) / len(y_test)\n",
    "print('Lasso: ',np.min(MSEs),' lambda: ',Lambdas[np.argmin(MSEs)])"
   ]
  },
  {
   "cell_type": "markdown",
   "metadata": {},
   "source": [
    "Finally we will save all the data to load them in RStudio and work with Stan"
   ]
  },
  {
   "cell_type": "code",
   "execution_count": 48,
   "metadata": {},
   "outputs": [],
   "source": [
    "np.savetxt('X_train.csv', X_train, delimiter=',')\n",
    "np.savetxt('X_test.csv', X_test, delimiter=',')\n",
    "np.savetxt('y_train.csv', y_train, delimiter=',')\n",
    "np.savetxt('y_test.csv', y_test, delimiter=',')"
   ]
  }
 ],
 "metadata": {
  "kernelspec": {
   "display_name": "Python 3",
   "language": "python",
   "name": "python3"
  },
  "language_info": {
   "codemirror_mode": {
    "name": "ipython",
    "version": 3
   },
   "file_extension": ".py",
   "mimetype": "text/x-python",
   "name": "python",
   "nbconvert_exporter": "python",
   "pygments_lexer": "ipython3",
   "version": "3.7.3"
  }
 },
 "nbformat": 4,
 "nbformat_minor": 2
}

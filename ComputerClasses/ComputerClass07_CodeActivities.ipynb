{
 "cells": [
  {
   "cell_type": "markdown",
   "metadata": {},
   "source": [
    "# LSE ST451: Bayesian Machine Learning\n",
    "## Author: Kostas Kalogeropoulos\n",
    "\n",
    "## Week 7: Mixture Models\n",
    "\n",
    "Topics covered \n",
    " - Fitting Gaussian Mixture models using the EM algorithm\n",
    " - Obtaining information on soft allocation of individuals\n",
    " - Model Choice within the family of Gaussian Mixtures\n",
    " - Bayesian approach with overfitted mixtures"
   ]
  },
  {
   "cell_type": "markdown",
   "metadata": {},
   "source": [
    "Standaer libraries will be used with the addition of two new ones from sklearn for the EM and Variational Bayes approach on Gaussian Mixtures"
   ]
  },
  {
   "cell_type": "code",
   "execution_count": 1,
   "metadata": {},
   "outputs": [],
   "source": [
    "import matplotlib.pyplot as plt\n",
    "%matplotlib inline\n",
    "import pandas as pd\n",
    "import numpy as np\n",
    "\n",
    "from sklearn import datasets\n",
    "#The next two lines import the functions for the two things we will look into today\n",
    "from sklearn.mixture import GaussianMixture\n",
    "from sklearn.mixture import BayesianGaussianMixture"
   ]
  },
  {
   "cell_type": "markdown",
   "metadata": {},
   "source": [
    "### Load the Iris dataset\n",
    "\n",
    "The Iris Dataset. This data sets consists of 3 different types of irises' (Setosa, Versicolour, and Virginica) petal and sepal length, stored in a 150x4 numpy.ndarray. The rows being the samples and the columns being: Sepal Length, Sepal Width, Petal Length and Petal Width. The below plot uses the first two features."
   ]
  },
  {
   "cell_type": "code",
   "execution_count": 2,
   "metadata": {},
   "outputs": [
    {
     "name": "stdout",
     "output_type": "stream",
     "text": [
      "(150, 4)\n"
     ]
    },
    {
     "data": {
      "text/html": [
       "<div>\n",
       "<style scoped>\n",
       "    .dataframe tbody tr th:only-of-type {\n",
       "        vertical-align: middle;\n",
       "    }\n",
       "\n",
       "    .dataframe tbody tr th {\n",
       "        vertical-align: top;\n",
       "    }\n",
       "\n",
       "    .dataframe thead th {\n",
       "        text-align: right;\n",
       "    }\n",
       "</style>\n",
       "<table border=\"1\" class=\"dataframe\">\n",
       "  <thead>\n",
       "    <tr style=\"text-align: right;\">\n",
       "      <th></th>\n",
       "      <th>sepal length (cm)</th>\n",
       "      <th>sepal width (cm)</th>\n",
       "      <th>petal length (cm)</th>\n",
       "      <th>petal width (cm)</th>\n",
       "    </tr>\n",
       "  </thead>\n",
       "  <tbody>\n",
       "    <tr>\n",
       "      <th>0</th>\n",
       "      <td>5.1</td>\n",
       "      <td>3.5</td>\n",
       "      <td>1.4</td>\n",
       "      <td>0.2</td>\n",
       "    </tr>\n",
       "    <tr>\n",
       "      <th>1</th>\n",
       "      <td>4.9</td>\n",
       "      <td>3.0</td>\n",
       "      <td>1.4</td>\n",
       "      <td>0.2</td>\n",
       "    </tr>\n",
       "    <tr>\n",
       "      <th>2</th>\n",
       "      <td>4.7</td>\n",
       "      <td>3.2</td>\n",
       "      <td>1.3</td>\n",
       "      <td>0.2</td>\n",
       "    </tr>\n",
       "    <tr>\n",
       "      <th>3</th>\n",
       "      <td>4.6</td>\n",
       "      <td>3.1</td>\n",
       "      <td>1.5</td>\n",
       "      <td>0.2</td>\n",
       "    </tr>\n",
       "    <tr>\n",
       "      <th>4</th>\n",
       "      <td>5.0</td>\n",
       "      <td>3.6</td>\n",
       "      <td>1.4</td>\n",
       "      <td>0.2</td>\n",
       "    </tr>\n",
       "  </tbody>\n",
       "</table>\n",
       "</div>"
      ],
      "text/plain": [
       "   sepal length (cm)  sepal width (cm)  petal length (cm)  petal width (cm)\n",
       "0                5.1               3.5                1.4               0.2\n",
       "1                4.9               3.0                1.4               0.2\n",
       "2                4.7               3.2                1.3               0.2\n",
       "3                4.6               3.1                1.5               0.2\n",
       "4                5.0               3.6                1.4               0.2"
      ]
     },
     "execution_count": 2,
     "metadata": {},
     "output_type": "execute_result"
    }
   ],
   "source": [
    "iris = datasets.load_iris()\n",
    "#next we import it into a pandas frame for convenience (not necessry)\n",
    "pdiris = pd.DataFrame(iris.data, columns=iris.feature_names)\n",
    "print(pdiris.shape)\n",
    "pdiris.head()"
   ]
  },
  {
   "cell_type": "markdown",
   "metadata": {},
   "source": [
    "### Plots \n",
    "\n",
    "Below we will see some 2d plots just to get a feel of the data. There appears to be some clustering but it is hard to infer the number of clusters of the 4d datasets from 2d plots. "
   ]
  },
  {
   "cell_type": "code",
   "execution_count": 3,
   "metadata": {},
   "outputs": [
    {
     "data": {
      "text/plain": [
       "Text(0, 0.5, 'petal length (cm)')"
      ]
     },
     "execution_count": 3,
     "metadata": {},
     "output_type": "execute_result"
    },
    {
     "data": {
      "image/png": "[encoded data removed]",
      "text/plain": [
       "<Figure size 432x288 with 1 Axes>"
      ]
     },
     "metadata": {
      "needs_background": "light"
     },
     "output_type": "display_data"
    }
   ],
   "source": [
    "plt.plot(pdiris['sepal length (cm)'], pdiris['petal length (cm)'], 'o')\n",
    "plt.xlabel('sepal length (cm)')\n",
    "plt.ylabel('petal length (cm)')"
   ]
  },
  {
   "cell_type": "code",
   "execution_count": 21,
   "metadata": {},
   "outputs": [
    {
     "data": {
      "text/plain": [
       "Text(0, 0.5, 'petal length  (cm)')"
      ]
     },
     "execution_count": 21,
     "metadata": {},
     "output_type": "execute_result"
    },
    {
     "data": {
      "image/png": "[encoded data removed]",
      "text/plain": [
       "<Figure size 432x288 with 1 Axes>"
      ]
     },
     "metadata": {
      "needs_background": "light"
     },
     "output_type": "display_data"
    }
   ],
   "source": [
    "plt.plot(pdiris['sepal width (cm)'], pdiris['petal length (cm)'], 'o')\n",
    "plt.xlabel('sepal width (cm)')\n",
    "plt.ylabel('petal length  (cm)')"
   ]
  },
  {
   "cell_type": "markdown",
   "metadata": {},
   "source": [
    "### Fitting GMMs using the EM algorithm\n",
    "\n",
    "The code for doing so is given below. The '.fit' bit obtains the MLEs of means and covariances that can be viewed using '.means_' and '.covariances_'\n",
    "\n",
    "We start by inspecting and visualisibg a 2-d dataset with only the 'sepal width (cm)' and 'petal width (cm)' variables. The full dataset is analysed afterwards"
   ]
  },
  {
   "cell_type": "code",
   "execution_count": 22,
   "metadata": {},
   "outputs": [
    {
     "name": "stdout",
     "output_type": "stream",
     "text": [
      "[[3.42806577 1.46200936]\n",
      " [2.87198343 4.90589429]]\n",
      "\n",
      "\n",
      "[[[0.1407512  0.01145405]\n",
      "  [0.01145405 0.02955718]]\n",
      "\n",
      " [[0.10962331 0.14142363]\n",
      "  [0.14142363 0.67512617]]]\n"
     ]
    }
   ],
   "source": [
    "vars = ['sepal width (cm)','petal length (cm)']\n",
    "gmm = GaussianMixture(n_components=2)\n",
    "gmm.fit(pdiris[vars])\n",
    "print(gmm.means_)\n",
    "print('\\n')\n",
    "print(gmm.covariances_)"
   ]
  },
  {
   "cell_type": "markdown",
   "metadata": {},
   "source": [
    "### Soft allocation of individuals to clusters\n",
    "\n",
    "GMM method does not necesarily allocates individuals with certainty but with probabilities.\n",
    "\n",
    "Adding the probabilities can give as an ideas of how many people each cluster has."
   ]
  },
  {
   "cell_type": "code",
   "execution_count": 23,
   "metadata": {},
   "outputs": [
    {
     "name": "stdout",
     "output_type": "stream",
     "text": [
      "[ 49.99706629 100.00293371]\n",
      "[[1.    0.   ]\n",
      " [1.    0.   ]\n",
      " [1.    0.   ]\n",
      " [1.    0.   ]\n",
      " [1.    0.   ]\n",
      " [1.    0.   ]\n",
      " [1.    0.   ]\n",
      " [1.    0.   ]\n",
      " [1.    0.   ]\n",
      " [1.    0.   ]\n",
      " [1.    0.   ]\n",
      " [1.    0.   ]\n",
      " [1.    0.   ]\n",
      " [1.    0.   ]\n",
      " [1.    0.   ]\n",
      " [1.    0.   ]\n",
      " [1.    0.   ]\n",
      " [1.    0.   ]\n",
      " [1.    0.   ]\n",
      " [1.    0.   ]\n",
      " [0.997 0.003]\n",
      " [1.    0.   ]\n",
      " [1.    0.   ]\n",
      " [1.    0.   ]\n",
      " [1.    0.   ]\n",
      " [1.    0.   ]\n",
      " [1.    0.   ]\n",
      " [1.    0.   ]\n",
      " [1.    0.   ]]\n"
     ]
    }
   ],
   "source": [
    "probs = gmm.predict_proba(pdiris[vars])\n",
    "print(np.sum(probs,axis=0))\n",
    "print(probs[21:50].round(3))"
   ]
  },
  {
   "cell_type": "markdown",
   "metadata": {},
   "source": [
    "### Model Search\n",
    "\n",
    "We need to fit models wiht different numbers of cluster and different type of covariance matrices to identify the best one. This is done via the BIC (the smaller the better in this case)\n",
    "\n",
    "Types of covariance matrices:\n",
    " - spherical: each cluster k has covariance $\\sigma^2_k I$\n",
    " - tied: full covariance matrix but the same across clusters\n",
    " - diag: diagonal covariance matrix, different for each cluster\n",
    " - full: full covariance matrix, different for each cluster\n",
    " "
   ]
  },
  {
   "cell_type": "code",
   "execution_count": 12,
   "metadata": {},
   "outputs": [
    {
     "name": "stdout",
     "output_type": "stream",
     "text": [
      "574.0178327207459\n"
     ]
    },
    {
     "data": {
      "text/html": [
       "<div>\n",
       "<style scoped>\n",
       "    .dataframe tbody tr th:only-of-type {\n",
       "        vertical-align: middle;\n",
       "    }\n",
       "\n",
       "    .dataframe tbody tr th {\n",
       "        vertical-align: top;\n",
       "    }\n",
       "\n",
       "    .dataframe thead th {\n",
       "        text-align: right;\n",
       "    }\n",
       "</style>\n",
       "<table border=\"1\" class=\"dataframe\">\n",
       "  <thead>\n",
       "    <tr style=\"text-align: right;\">\n",
       "      <th></th>\n",
       "      <th>spherical</th>\n",
       "      <th>tied</th>\n",
       "      <th>diag</th>\n",
       "      <th>full</th>\n",
       "    </tr>\n",
       "  </thead>\n",
       "  <tbody>\n",
       "    <tr>\n",
       "      <th>1</th>\n",
       "      <td>1804.085438</td>\n",
       "      <td>829.978155</td>\n",
       "      <td>1522.120153</td>\n",
       "      <td>829.978155</td>\n",
       "    </tr>\n",
       "    <tr>\n",
       "      <th>2</th>\n",
       "      <td>1012.235180</td>\n",
       "      <td>688.097220</td>\n",
       "      <td>857.551494</td>\n",
       "      <td>574.017833</td>\n",
       "    </tr>\n",
       "    <tr>\n",
       "      <th>3</th>\n",
       "      <td>853.809341</td>\n",
       "      <td>633.825288</td>\n",
       "      <td>744.633209</td>\n",
       "      <td>580.859425</td>\n",
       "    </tr>\n",
       "    <tr>\n",
       "      <th>4</th>\n",
       "      <td>814.336382</td>\n",
       "      <td>618.038221</td>\n",
       "      <td>705.122661</td>\n",
       "      <td>625.441241</td>\n",
       "    </tr>\n",
       "    <tr>\n",
       "      <th>5</th>\n",
       "      <td>747.009336</td>\n",
       "      <td>629.891501</td>\n",
       "      <td>701.149160</td>\n",
       "      <td>681.458987</td>\n",
       "    </tr>\n",
       "    <tr>\n",
       "      <th>6</th>\n",
       "      <td>754.324569</td>\n",
       "      <td>616.437688</td>\n",
       "      <td>698.241954</td>\n",
       "      <td>729.078984</td>\n",
       "    </tr>\n",
       "    <tr>\n",
       "      <th>7</th>\n",
       "      <td>722.887534</td>\n",
       "      <td>640.768584</td>\n",
       "      <td>728.946261</td>\n",
       "      <td>774.372045</td>\n",
       "    </tr>\n",
       "    <tr>\n",
       "      <th>8</th>\n",
       "      <td>738.295201</td>\n",
       "      <td>639.359438</td>\n",
       "      <td>711.987570</td>\n",
       "      <td>810.014262</td>\n",
       "    </tr>\n",
       "  </tbody>\n",
       "</table>\n",
       "</div>"
      ],
      "text/plain": [
       "     spherical        tied         diag        full\n",
       "1  1804.085438  829.978155  1522.120153  829.978155\n",
       "2  1012.235180  688.097220   857.551494  574.017833\n",
       "3   853.809341  633.825288   744.633209  580.859425\n",
       "4   814.336382  618.038221   705.122661  625.441241\n",
       "5   747.009336  629.891501   701.149160  681.458987\n",
       "6   754.324569  616.437688   698.241954  729.078984\n",
       "7   722.887534  640.768584   728.946261  774.372045\n",
       "8   738.295201  639.359438   711.987570  810.014262"
      ]
     },
     "execution_count": 12,
     "metadata": {},
     "output_type": "execute_result"
    }
   ],
   "source": [
    "lowest_bic = np.infty\n",
    "\n",
    "#Consider k=1,...,6 and four types of covariance matrix\n",
    "n_components_range = range(1, 9)\n",
    "cv_types = ['spherical', 'tied', 'diag', 'full']\n",
    "bic = np.zeros((len(n_components_range),len(cv_types))) #matrix to store the BICs\n",
    "j = -1\n",
    "for cv_type in cv_types:\n",
    "    j = j+1\n",
    "    for n_components in n_components_range:\n",
    "        # Fit a Gaussian mixture with EM\n",
    "        gmm = GaussianMixture(n_components=n_components,\n",
    "                                      covariance_type=cv_type)\n",
    "        gmm.fit(pdiris)\n",
    "        bicij = gmm.bic(pdiris)  #get the BIC \n",
    "        bic[n_components-1,j] = bicij\n",
    "        #the code below keeps track of the model with the lowest BIC\n",
    "        if bicij < lowest_bic:\n",
    "            lowest_bic = bicij\n",
    "            best_gmm = gmm\n",
    "print(lowest_bic)\n",
    "bic = pd.DataFrame(bic,columns = cv_types,index=n_components_range)\n",
    "bic"
   ]
  },
  {
   "cell_type": "code",
   "execution_count": 13,
   "metadata": {},
   "outputs": [
    {
     "name": "stdout",
     "output_type": "stream",
     "text": [
      "[[6.26198886 2.87199642 4.90597719 1.67599129]\n",
      " [5.00600639 3.4280142  1.46200203 0.24599932]]\n",
      "\n",
      "\n",
      "[[[0.43497387 0.12094155 0.44886533 0.16550229]\n",
      "  [0.12094155 0.10961836 0.14138002 0.07923243]\n",
      "  [0.44886533 0.14138002 0.67484296 0.2858736 ]\n",
      "  [0.16550229 0.07923243 0.2858736  0.17863587]]\n",
      "\n",
      " [[0.12176331 0.09722605 0.01602717 0.01012447]\n",
      "  [0.09722605 0.14080279 0.01146185 0.00911288]\n",
      "  [0.01602717 0.01146185 0.02955704 0.00594818]\n",
      "  [0.01012447 0.00911288 0.00594818 0.0108851 ]]]\n"
     ]
    }
   ],
   "source": [
    "print(best_gmm.means_)\n",
    "print('\\n')\n",
    "print(best_gmm.covariances_)"
   ]
  },
  {
   "cell_type": "markdown",
   "metadata": {},
   "source": [
    "### Activity 1\n",
    "\n",
    "Repeat the analysis using only two of the four variables. Do we get a different conclusion on the number of clusters? "
   ]
  },
  {
   "cell_type": "markdown",
   "metadata": {},
   "source": [
    "Put your code below"
   ]
  },
  {
   "cell_type": "code",
   "execution_count": 20,
   "metadata": {},
   "outputs": [
    {
     "name": "stdout",
     "output_type": "stream",
     "text": [
      "573.8045600818292\n"
     ]
    },
    {
     "data": {
      "text/html": [
       "<div>\n",
       "<style scoped>\n",
       "    .dataframe tbody tr th:only-of-type {\n",
       "        vertical-align: middle;\n",
       "    }\n",
       "\n",
       "    .dataframe tbody tr th {\n",
       "        vertical-align: top;\n",
       "    }\n",
       "\n",
       "    .dataframe thead th {\n",
       "        text-align: right;\n",
       "    }\n",
       "</style>\n",
       "<table border=\"1\" class=\"dataframe\">\n",
       "  <thead>\n",
       "    <tr style=\"text-align: right;\">\n",
       "      <th></th>\n",
       "      <th>spherical</th>\n",
       "      <th>tied</th>\n",
       "      <th>diag</th>\n",
       "      <th>full</th>\n",
       "    </tr>\n",
       "  </thead>\n",
       "  <tbody>\n",
       "    <tr>\n",
       "      <th>1</th>\n",
       "      <td>1057.100089</td>\n",
       "      <td>774.267705</td>\n",
       "      <td>983.296180</td>\n",
       "      <td>774.267705</td>\n",
       "    </tr>\n",
       "    <tr>\n",
       "      <th>2</th>\n",
       "      <td>701.430643</td>\n",
       "      <td>658.183568</td>\n",
       "      <td>683.455604</td>\n",
       "      <td>573.804560</td>\n",
       "    </tr>\n",
       "    <tr>\n",
       "      <th>3</th>\n",
       "      <td>665.136877</td>\n",
       "      <td>623.873385</td>\n",
       "      <td>654.635944</td>\n",
       "      <td>586.121097</td>\n",
       "    </tr>\n",
       "    <tr>\n",
       "      <th>4</th>\n",
       "      <td>636.563762</td>\n",
       "      <td>628.286329</td>\n",
       "      <td>626.991782</td>\n",
       "      <td>618.307767</td>\n",
       "    </tr>\n",
       "    <tr>\n",
       "      <th>5</th>\n",
       "      <td>637.248491</td>\n",
       "      <td>644.165536</td>\n",
       "      <td>633.534743</td>\n",
       "      <td>636.914949</td>\n",
       "    </tr>\n",
       "    <tr>\n",
       "      <th>6</th>\n",
       "      <td>651.399846</td>\n",
       "      <td>630.996946</td>\n",
       "      <td>642.433807</td>\n",
       "      <td>658.341713</td>\n",
       "    </tr>\n",
       "    <tr>\n",
       "      <th>7</th>\n",
       "      <td>653.392981</td>\n",
       "      <td>625.684652</td>\n",
       "      <td>659.052029</td>\n",
       "      <td>671.673215</td>\n",
       "    </tr>\n",
       "    <tr>\n",
       "      <th>8</th>\n",
       "      <td>651.602125</td>\n",
       "      <td>630.393394</td>\n",
       "      <td>686.247891</td>\n",
       "      <td>694.997563</td>\n",
       "    </tr>\n",
       "  </tbody>\n",
       "</table>\n",
       "</div>"
      ],
      "text/plain": [
       "     spherical        tied        diag        full\n",
       "1  1057.100089  774.267705  983.296180  774.267705\n",
       "2   701.430643  658.183568  683.455604  573.804560\n",
       "3   665.136877  623.873385  654.635944  586.121097\n",
       "4   636.563762  628.286329  626.991782  618.307767\n",
       "5   637.248491  644.165536  633.534743  636.914949\n",
       "6   651.399846  630.996946  642.433807  658.341713\n",
       "7   653.392981  625.684652  659.052029  671.673215\n",
       "8   651.602125  630.393394  686.247891  694.997563"
      ]
     },
     "execution_count": 20,
     "metadata": {},
     "output_type": "execute_result"
    }
   ],
   "source": [
    "lowest_bic = np.infty\n",
    "vars = ['sepal length (cm)','petal length (cm)']\n",
    "\n",
    "#Consider k=1,...,6 and four types of covariance matrix\n",
    "n_components_range = range(1, 9)\n",
    "cv_types = ['spherical', 'tied', 'diag', 'full']\n",
    "bic = np.zeros((len(n_components_range),len(cv_types))) #matrix to store the BICs\n",
    "j = -1\n",
    "for cv_type in cv_types:\n",
    "    j = j+1\n",
    "    for n_components in n_components_range:\n",
    "        # Fit a Gaussian mixture with EM\n",
    "        gmm = GaussianMixture(n_components=n_components,\n",
    "                                      covariance_type=cv_type)\n",
    "        gmm.fit(pdiris[vars])\n",
    "        bicij = gmm.bic(pdiris[vars])  #get the BIC \n",
    "        bic[n_components-1,j] = bicij\n",
    "        #the code below keeps track of the model with the lowest BIC\n",
    "        if bicij < lowest_bic:\n",
    "            lowest_bic = bicij\n",
    "            best_gmm = gmm\n",
    "print(lowest_bic)\n",
    "bic = pd.DataFrame(bic,columns = cv_types,index=n_components_range)\n",
    "bic"
   ]
  },
  {
   "cell_type": "code",
   "execution_count": null,
   "metadata": {},
   "outputs": [],
   "source": [
    "print(best_gmm.means_)\n",
    "print('\\n')\n",
    "print(best_gmm.covariances_)"
   ]
  },
  {
   "cell_type": "markdown",
   "metadata": {},
   "source": [
    "### Simulate data to test the method\n",
    "\n",
    "So far we have been looking at a dataset where we are not sure about the 'true' number of clusters and type of covariance matrix.\n",
    "\n",
    "In what follows we will simulate data from a Gaussian mixture with three components and spherical covariance matrix."
   ]
  },
  {
   "cell_type": "code",
   "execution_count": 24,
   "metadata": {},
   "outputs": [
    {
     "name": "stdout",
     "output_type": "stream",
     "text": [
      "(600, 2)\n",
      "[[-5.98898996  2.96813929]\n",
      " [-0.05362383  0.10657981]\n",
      " [ 3.30233239 -3.6440943 ]]\n",
      "[0.15235684 0.95059212 9.1307105 ]\n"
     ]
    },
    {
     "data": {
      "text/plain": [
       "<matplotlib.collections.PathCollection at 0x1a1ab3a160>"
      ]
     },
     "execution_count": 24,
     "metadata": {},
     "output_type": "execute_result"
    },
    {
     "data": {
      "image/png": "[encoded data removed]",
      "text/plain": [
       "<Figure size 432x288 with 1 Axes>"
      ]
     },
     "metadata": {
      "needs_background": "light"
     },
     "output_type": "display_data"
    }
   ],
   "source": [
    "# Number of samples per component\n",
    "n_samples = 200\n",
    "np.random.seed(5)\n",
    "\n",
    "# Generate random sample, three components 1.mean (0,0) cov=1I, 2. mean (-6, 3) cov=.49I and\n",
    "# 3. mean (3, -4) cov=4I\n",
    "C = np.array([[0., -0.1], [1.7, .4]])\n",
    "X = np.r_[np.random.randn(n_samples, 2), \n",
    "          .4 * np.random.randn(n_samples, 2) + np.array([-6, 3]), \n",
    "         3* np.random.randn(n_samples, 2) + np.array([3, -4])] \n",
    "print(X.shape)\n",
    "gmm = GaussianMixture(n_components=3,covariance_type='spherical')\n",
    "gmm.fit(X)\n",
    "print(gmm.means_)\n",
    "print(gmm.covariances_)\n",
    "labels = gmm.predict(X)\n",
    "plt.scatter(X[:, 0], X[:, 1], c=labels)                                                     "
   ]
  },
  {
   "cell_type": "markdown",
   "metadata": {},
   "source": [
    "### Test the method\n",
    "\n",
    "Below we repeat the previous model search procedure to the data contained in X. We would like to test whethere the optimal models will indeed be the one with three components and spherical covariance"
   ]
  },
  {
   "cell_type": "code",
   "execution_count": 25,
   "metadata": {},
   "outputs": [
    {
     "name": "stdout",
     "output_type": "stream",
     "text": [
      "4814.519577703146\n"
     ]
    },
    {
     "data": {
      "text/html": [
       "<div>\n",
       "<style scoped>\n",
       "    .dataframe tbody tr th:only-of-type {\n",
       "        vertical-align: middle;\n",
       "    }\n",
       "\n",
       "    .dataframe tbody tr th {\n",
       "        vertical-align: top;\n",
       "    }\n",
       "\n",
       "    .dataframe thead th {\n",
       "        text-align: right;\n",
       "    }\n",
       "</style>\n",
       "<table border=\"1\" class=\"dataframe\">\n",
       "  <thead>\n",
       "    <tr style=\"text-align: right;\">\n",
       "      <th></th>\n",
       "      <th>spherical</th>\n",
       "      <th>tied</th>\n",
       "      <th>diag</th>\n",
       "      <th>full</th>\n",
       "    </tr>\n",
       "  </thead>\n",
       "  <tbody>\n",
       "    <tr>\n",
       "      <th>1</th>\n",
       "      <td>6652.518333</td>\n",
       "      <td>6184.196737</td>\n",
       "      <td>6615.417378</td>\n",
       "      <td>6184.196737</td>\n",
       "    </tr>\n",
       "    <tr>\n",
       "      <th>2</th>\n",
       "      <td>5157.619530</td>\n",
       "      <td>6153.896995</td>\n",
       "      <td>5168.246038</td>\n",
       "      <td>5122.187996</td>\n",
       "    </tr>\n",
       "    <tr>\n",
       "      <th>3</th>\n",
       "      <td>4814.519578</td>\n",
       "      <td>5836.906756</td>\n",
       "      <td>4830.568268</td>\n",
       "      <td>4849.482297</td>\n",
       "    </tr>\n",
       "    <tr>\n",
       "      <th>4</th>\n",
       "      <td>4841.296848</td>\n",
       "      <td>5716.420978</td>\n",
       "      <td>4864.335123</td>\n",
       "      <td>4888.803861</td>\n",
       "    </tr>\n",
       "    <tr>\n",
       "      <th>5</th>\n",
       "      <td>4868.646465</td>\n",
       "      <td>5580.302419</td>\n",
       "      <td>4893.487359</td>\n",
       "      <td>4917.581418</td>\n",
       "    </tr>\n",
       "    <tr>\n",
       "      <th>6</th>\n",
       "      <td>4892.547636</td>\n",
       "      <td>5623.645161</td>\n",
       "      <td>4911.773335</td>\n",
       "      <td>4952.906536</td>\n",
       "    </tr>\n",
       "  </tbody>\n",
       "</table>\n",
       "</div>"
      ],
      "text/plain": [
       "     spherical         tied         diag         full\n",
       "1  6652.518333  6184.196737  6615.417378  6184.196737\n",
       "2  5157.619530  6153.896995  5168.246038  5122.187996\n",
       "3  4814.519578  5836.906756  4830.568268  4849.482297\n",
       "4  4841.296848  5716.420978  4864.335123  4888.803861\n",
       "5  4868.646465  5580.302419  4893.487359  4917.581418\n",
       "6  4892.547636  5623.645161  4911.773335  4952.906536"
      ]
     },
     "execution_count": 25,
     "metadata": {},
     "output_type": "execute_result"
    }
   ],
   "source": [
    "lowest_bic = np.infty\n",
    "n_components_range = range(1, 7)\n",
    "cv_types = ['spherical', 'tied', 'diag', 'full']\n",
    "bic = np.zeros((len(n_components_range),len(cv_types)))\n",
    "j = -1\n",
    "for cv_type in cv_types:\n",
    "    j = j+1\n",
    "    for n_components in n_components_range:\n",
    "        # Fit a Gaussian mixture with EM\n",
    "        gmm = GaussianMixture(n_components=n_components,\n",
    "                                      covariance_type=cv_type)\n",
    "        gmm.fit(X)\n",
    "        bicij = gmm.bic(X)\n",
    "        bic[n_components-1,j] = bicij\n",
    "        if bicij < lowest_bic:\n",
    "            lowest_bic = bicij\n",
    "            best_gmm = gmm\n",
    "print(lowest_bic)\n",
    "bic = pd.DataFrame(bic,columns = cv_types,index=n_components_range)\n",
    "bic"
   ]
  },
  {
   "cell_type": "markdown",
   "metadata": {},
   "source": [
    "### Activity 2\n",
    "\n",
    "Conduct another simulation experiment generating data from a Gaussian mixture. Choose your own number of components, means and covariances."
   ]
  },
  {
   "cell_type": "markdown",
   "metadata": {},
   "source": [
    "Put your code below"
   ]
  },
  {
   "cell_type": "code",
   "execution_count": null,
   "metadata": {},
   "outputs": [],
   "source": []
  },
  {
   "cell_type": "markdown",
   "metadata": {},
   "source": [
    "### Overfitted Mixtures\n",
    "\n",
    "Now we will explore what happens when we fit a model with more components than the ones in the data. "
   ]
  },
  {
   "cell_type": "code",
   "execution_count": 26,
   "metadata": {},
   "outputs": [
    {
     "data": {
      "text/html": [
       "<div>\n",
       "<style scoped>\n",
       "    .dataframe tbody tr th:only-of-type {\n",
       "        vertical-align: middle;\n",
       "    }\n",
       "\n",
       "    .dataframe tbody tr th {\n",
       "        vertical-align: top;\n",
       "    }\n",
       "\n",
       "    .dataframe thead th {\n",
       "        text-align: right;\n",
       "    }\n",
       "</style>\n",
       "<table border=\"1\" class=\"dataframe\">\n",
       "  <thead>\n",
       "    <tr style=\"text-align: right;\">\n",
       "      <th></th>\n",
       "      <th># of individuals</th>\n",
       "    </tr>\n",
       "  </thead>\n",
       "  <tbody>\n",
       "    <tr>\n",
       "      <th>1</th>\n",
       "      <td>35.0</td>\n",
       "    </tr>\n",
       "    <tr>\n",
       "      <th>2</th>\n",
       "      <td>200.0</td>\n",
       "    </tr>\n",
       "    <tr>\n",
       "      <th>3</th>\n",
       "      <td>203.0</td>\n",
       "    </tr>\n",
       "    <tr>\n",
       "      <th>4</th>\n",
       "      <td>56.0</td>\n",
       "    </tr>\n",
       "    <tr>\n",
       "      <th>5</th>\n",
       "      <td>38.0</td>\n",
       "    </tr>\n",
       "    <tr>\n",
       "      <th>6</th>\n",
       "      <td>68.0</td>\n",
       "    </tr>\n",
       "  </tbody>\n",
       "</table>\n",
       "</div>"
      ],
      "text/plain": [
       "   # of individuals\n",
       "1              35.0\n",
       "2             200.0\n",
       "3             203.0\n",
       "4              56.0\n",
       "5              38.0\n",
       "6              68.0"
      ]
     },
     "execution_count": 26,
     "metadata": {},
     "output_type": "execute_result"
    }
   ],
   "source": [
    "gmm = GaussianMixture(n_components=6,covariance_type='spherical')\n",
    "gmm.fit(X)\n",
    "probs = gmm.predict_proba(X)\n",
    "results = np.sum(probs,axis=0)\n",
    "results = pd.DataFrame(results.round(0), columns = ['# of individuals'], index=range(1,7))\n",
    "results"
   ]
  },
  {
   "cell_type": "code",
   "execution_count": 27,
   "metadata": {},
   "outputs": [
    {
     "data": {
      "text/plain": [
       "<matplotlib.collections.PathCollection at 0x1a1ab92f98>"
      ]
     },
     "execution_count": 27,
     "metadata": {},
     "output_type": "execute_result"
    },
    {
     "data": {
      "image/png": "[encoded data removed]",
      "text/plain": [
       "<Figure size 432x288 with 1 Axes>"
      ]
     },
     "metadata": {
      "needs_background": "light"
     },
     "output_type": "display_data"
    }
   ],
   "source": [
    "labels = gmm.predict(X)\n",
    "plt.scatter(X[:, 0], X[:, 1], c=labels) "
   ]
  },
  {
   "cell_type": "markdown",
   "metadata": {},
   "source": [
    "## Bayesian Gaussian Mixture models\n",
    "\n",
    "We will also apply the fully Bayesian model to the same data with a Dirichlet prior on the cluster probabilities with a low hyperparameter (weight_concentration_prior) of 0.01. This choice is going to penalise redundant clusters by not allocating individuals to them unless it is necessaray "
   ]
  },
  {
   "cell_type": "code",
   "execution_count": 28,
   "metadata": {},
   "outputs": [
    {
     "data": {
      "text/html": [
       "<div>\n",
       "<style scoped>\n",
       "    .dataframe tbody tr th:only-of-type {\n",
       "        vertical-align: middle;\n",
       "    }\n",
       "\n",
       "    .dataframe tbody tr th {\n",
       "        vertical-align: top;\n",
       "    }\n",
       "\n",
       "    .dataframe thead th {\n",
       "        text-align: right;\n",
       "    }\n",
       "</style>\n",
       "<table border=\"1\" class=\"dataframe\">\n",
       "  <thead>\n",
       "    <tr style=\"text-align: right;\">\n",
       "      <th></th>\n",
       "      <th># of individuals</th>\n",
       "    </tr>\n",
       "  </thead>\n",
       "  <tbody>\n",
       "    <tr>\n",
       "      <th>1</th>\n",
       "      <td>200.0</td>\n",
       "    </tr>\n",
       "    <tr>\n",
       "      <th>2</th>\n",
       "      <td>0.0</td>\n",
       "    </tr>\n",
       "    <tr>\n",
       "      <th>3</th>\n",
       "      <td>206.0</td>\n",
       "    </tr>\n",
       "    <tr>\n",
       "      <th>4</th>\n",
       "      <td>0.0</td>\n",
       "    </tr>\n",
       "    <tr>\n",
       "      <th>5</th>\n",
       "      <td>0.0</td>\n",
       "    </tr>\n",
       "    <tr>\n",
       "      <th>6</th>\n",
       "      <td>194.0</td>\n",
       "    </tr>\n",
       "  </tbody>\n",
       "</table>\n",
       "</div>"
      ],
      "text/plain": [
       "   # of individuals\n",
       "1             200.0\n",
       "2               0.0\n",
       "3             206.0\n",
       "4               0.0\n",
       "5               0.0\n",
       "6             194.0"
      ]
     },
     "execution_count": 28,
     "metadata": {},
     "output_type": "execute_result"
    }
   ],
   "source": [
    "Bgmm = BayesianGaussianMixture(n_components=6,covariance_type='full',\n",
    "                               weight_concentration_prior=0.01, max_iter = 200)\n",
    "Bgmm.fit(X)\n",
    "probs = Bgmm.predict_proba(X)\n",
    "results = np.sum(probs,axis=0)\n",
    "results = pd.DataFrame(results.round(0), columns = ['# of individuals'], index=range(1,7))\n",
    "results"
   ]
  },
  {
   "cell_type": "code",
   "execution_count": 29,
   "metadata": {},
   "outputs": [
    {
     "data": {
      "text/plain": [
       "<matplotlib.collections.PathCollection at 0x1a1ace90b8>"
      ]
     },
     "execution_count": 29,
     "metadata": {},
     "output_type": "execute_result"
    },
    {
     "data": {
      "image/png": "[encoded data removed]",
      "text/plain": [
       "<Figure size 432x288 with 1 Axes>"
      ]
     },
     "metadata": {
      "needs_background": "light"
     },
     "output_type": "display_data"
    }
   ],
   "source": [
    "labels = Bgmm.predict(X)\n",
    "plt.scatter(X[:, 0], X[:, 1], c=labels)"
   ]
  },
  {
   "cell_type": "markdown",
   "metadata": {},
   "source": [
    "### Activity 3"
   ]
  },
  {
   "cell_type": "markdown",
   "metadata": {},
   "source": [
    "Fit the fully Bayesian approach to the Iris dataset and check the resulting number of clusters."
   ]
  },
  {
   "cell_type": "markdown",
   "metadata": {},
   "source": [
    "Put your code below"
   ]
  },
  {
   "cell_type": "code",
   "execution_count": null,
   "metadata": {},
   "outputs": [],
   "source": []
  }
 ],
 "metadata": {
  "kernelspec": {
   "display_name": "Python 3",
   "language": "python",
   "name": "python3"
  },
  "language_info": {
   "codemirror_mode": {
    "name": "ipython",
    "version": 3
   },
   "file_extension": ".py",
   "mimetype": "text/x-python",
   "name": "python",
   "nbconvert_exporter": "python",
   "pygments_lexer": "ipython3",
   "version": "3.7.3"
  }
 },
 "nbformat": 4,
 "nbformat_minor": 2
}

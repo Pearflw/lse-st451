{
 "cells": [
  {
   "cell_type": "markdown",
   "metadata": {},
   "source": [
    "# LSE ST451: Bayesian Machine Learning\n",
    "## Author: Kostas Kalogeropoulos\n",
    "\n",
    "## Week 5: Variational Bayes\n",
    "\n",
    "Topics covered \n",
    " - Mean field approximation\n",
    " - Automatic Differentiation Variational Inference (ADVI) in RStan"
   ]
  },
  {
   "cell_type": "markdown",
   "metadata": {},
   "source": [
    "Mean field approximation will be illustrated using basic libraries in Python. For ADVI we will use RStan via R Studio. It is possible to use PyStan too but it is not tested as much."
   ]
  },
  {
   "cell_type": "code",
   "execution_count": 26,
   "metadata": {},
   "outputs": [],
   "source": [
    "import pandas as pd\n",
    "import numpy as np"
   ]
  },
  {
   "cell_type": "markdown",
   "metadata": {},
   "source": [
    "### Mean Field approximation \n",
    "\n",
    "We will first simulate $100$ independent observations from the model \n",
    "\n",
    "$$\n",
    "y\\sim N(\\mu, \\tau^{-1})\n",
    "$$\n",
    "\n",
    "with $\\mu=5$ and $\\tau^{-1}=0.5$.\n",
    "\n",
    "Then we will treat $\\mu$ and $\\tau^{-1}$ as unknown and will use the mean field approximation algorithm presented in the lecture to estimated them. "
   ]
  },
  {
   "cell_type": "markdown",
   "metadata": {},
   "source": [
    "#### Simulate Data"
   ]
  },
  {
   "cell_type": "code",
   "execution_count": 27,
   "metadata": {},
   "outputs": [],
   "source": [
    "#Set parameters and simulate data\n",
    "n = 100\n",
    "mu = 3\n",
    "tau = 2\n",
    "std = np.sqrt(1/tau)\n",
    "y = mu + std*np.random.randn(n)\n",
    "\n",
    "#Set prior hyperparameters\n",
    "mu0 = 0\n",
    "lam0 = 1 #unit information prior\n",
    "a0 = 0.001\n",
    "b0 = 0.001\n",
    "\n",
    "\n",
    "# get sufficient stats\n",
    "Sy = np.sum(y)\n",
    "Sy2 = np.sum(y**2)\n",
    "m02 = mu0**2"
   ]
  },
  {
   "cell_type": "markdown",
   "metadata": {},
   "source": [
    "#### Run the algorithm"
   ]
  },
  {
   "cell_type": "code",
   "execution_count": 28,
   "metadata": {},
   "outputs": [
    {
     "name": "stdout",
     "output_type": "stream",
     "text": [
      "Converged at  6  iterations\n"
     ]
    },
    {
     "data": {
      "text/html": [
       "<div>\n",
       "<style scoped>\n",
       "    .dataframe tbody tr th:only-of-type {\n",
       "        vertical-align: middle;\n",
       "    }\n",
       "\n",
       "    .dataframe tbody tr th {\n",
       "        vertical-align: top;\n",
       "    }\n",
       "\n",
       "    .dataframe thead th {\n",
       "        text-align: right;\n",
       "    }\n",
       "</style>\n",
       "<table border=\"1\" class=\"dataframe\">\n",
       "  <thead>\n",
       "    <tr style=\"text-align: right;\">\n",
       "      <th></th>\n",
       "      <th>muf</th>\n",
       "      <th>tauf</th>\n",
       "      <th>tau muf</th>\n",
       "    </tr>\n",
       "  </thead>\n",
       "  <tbody>\n",
       "    <tr>\n",
       "      <th>VB</th>\n",
       "      <td>3.008337</td>\n",
       "      <td>1.779627</td>\n",
       "      <td>179.742336</td>\n",
       "    </tr>\n",
       "    <tr>\n",
       "      <th>MLE</th>\n",
       "      <td>3.038421</td>\n",
       "      <td>2.125395</td>\n",
       "      <td>212.539500</td>\n",
       "    </tr>\n",
       "  </tbody>\n",
       "</table>\n",
       "</div>"
      ],
      "text/plain": [
       "          muf      tauf     tau muf\n",
       "VB   3.008337  1.779627  179.742336\n",
       "MLE  3.038421  2.125395  212.539500"
      ]
     },
     "execution_count": 28,
     "metadata": {},
     "output_type": "execute_result"
    }
   ],
   "source": [
    "#initialise parameters\n",
    "muf = 0\n",
    "tauf = 1\n",
    "af = 1\n",
    "bf = 1\n",
    "\n",
    "#algorithmic parameters\n",
    "maxiter = 1000\n",
    "tol = 0.0000001\n",
    "\n",
    "#objects to store the values of the parameters to be optimised.\n",
    "Thetas = np.ones((maxiter,4))\n",
    "Thetas[0,] = np.array([muf,tauf,af,bf])\n",
    "\n",
    "#main while loop\n",
    "i = 0\n",
    "diff = 1 \n",
    "while (i<maxiter) and (diff>tol):\n",
    "    i = i+1\n",
    "    af = a0+(n+1)/2\n",
    "    Emu = muf   #E(mu)\n",
    "    Emu2 = (1/tauf)+muf**2   #E(mu^2)\n",
    "    bf = b0+0.5*(Sy2-2*muf*Sy+n*Emu2)+0.5*lam0*(m02 - 2*muf*mu0 + Emu2)\n",
    "    tauf = (lam0+n)*af/bf   #E(tau)\n",
    "    muf = (lam0*mu0+Sy)/(lam0+n)\n",
    "    Thetas[i,] = np.array([muf,tauf,af,bf])\n",
    "    dThetas = (Thetas[i,]-Thetas[i-1,])**2\n",
    "    diff = np.max(dThetas)\n",
    "\n",
    "#summarise output\n",
    "muf = Thetas[i,0]\n",
    "tauf = Thetas[i,1]\n",
    "af = Thetas[i,2]\n",
    "bf = Thetas[i,3]\n",
    "print('Converged at ',i,' iterations')\n",
    "results = np.array([[muf,af/bf,tauf],[np.mean(y),1/np.var(y),n/np.var(y)]])\n",
    "col = ['muf','tauf','tau muf']\n",
    "ind = ['VB','MLE']\n",
    "results = pd.DataFrame(results,columns = col,index=ind)\n",
    "results\n"
   ]
  },
  {
   "cell_type": "markdown",
   "metadata": {},
   "source": [
    "### Activity 1"
   ]
  },
  {
   "cell_type": "markdown",
   "metadata": {},
   "source": [
    "Let $y=(y_1, \\dots, y_n)$ be independent Poisson($\\lambda$) observations. Assume that $\\lambda$ follows the Gamma($2,\\beta$) distribution, where $\\beta$ follows the Exponential($1$) distribution. The aim is to draw inference from the posterior $\\pi(\\theta|y)$, where $\\theta=(\\lambda, \\beta)$. "
   ]
  },
  {
   "cell_type": "markdown",
   "metadata": {},
   "source": [
    "#### Simulate data"
   ]
  },
  {
   "cell_type": "code",
   "execution_count": 36,
   "metadata": {},
   "outputs": [
    {
     "name": "stdout",
     "output_type": "stream",
     "text": [
      "beta value:  [0.53960584]  lambda value:  [1.53955169]\n",
      "ybar:  1.41\n"
     ]
    }
   ],
   "source": [
    "#Set parameters and simulate data\n",
    "n = 100\n",
    "np.random.seed(1)\n",
    "beta_true = np.random.exponential(1,1)\n",
    "lambda_true  = np.random.gamma(2,1/beta_true,1)\n",
    "print('beta value: ',beta_true,' lambda value: ',lambda_true)\n",
    "y = np.random.poisson(lambda_true,n)\n",
    "\n",
    "# get sufficient stats\n",
    "sy = np.sum(y)\n",
    "print('ybar: ',sy/n)"
   ]
  },
  {
   "cell_type": "markdown",
   "metadata": {},
   "source": [
    "The variational Bayes algorithm **approximates** $\\pi(\\theta|y)$ using the mean field approximation \n",
    "\n",
    "$$\n",
    "q(\\theta|y, \\phi)=q(\\lambda|y, \\phi)q(\\beta|y, \\phi)\n",
    "$$\n",
    "\n",
    "It can be shown (see exam paper of 2019, question 2a) that such an algorithm may consist of the following steps\n",
    "\n",
    " 1. Initialise at $q(\\lambda)$ to be the Gamma($a_{\\lambda},b_{\\lambda}$) and $q(\\beta)$ to be the Gamma($a_{\\beta},b_{\\beta}$) distribution, setting $$a_{\\lambda}=2+\\sum_iy_i,\\;\\; b_{\\lambda}=b_{\\lambda}^0,\\;\\;\\;a_{\\beta}=3,\\;\\text{ and }\\;\\;b_{\\beta}=b_{\\beta}^0. $$\n",
    " 2. Iteratively update $b_{\\lambda}$ and $b_{\\beta}$ until the parameters or the ELBO converge. At iteration $i$ will have:\n",
    " \n",
    "    a. Set $$b_{\\lambda}^{i}=n+\\mathbb{E}_{q(\\beta)}[\\beta]=n+3/b_{\\beta}^{i-1}$$\n",
    "    \n",
    "    b. Set $$b_{\\beta}^{i}=1+\\mathbb{E}_{q(\\lambda)}[\\lambda]=1+(2+\\sum_iy_i)/b_{\\lambda}^{i}$$\n"
   ]
  },
  {
   "cell_type": "markdown",
   "metadata": {},
   "source": [
    "**Task:** Code the above algorithm and fit it to the simulated data. Check your answers in terms of the lambda estimates.\n",
    "\n",
    "Put your code below"
   ]
  },
  {
   "cell_type": "code",
   "execution_count": null,
   "metadata": {},
   "outputs": [],
   "source": []
  }
 ],
 "metadata": {
  "kernelspec": {
   "display_name": "Python 3",
   "language": "python",
   "name": "python3"
  },
  "language_info": {
   "codemirror_mode": {
    "name": "ipython",
    "version": 3
   },
   "file_extension": ".py",
   "mimetype": "text/x-python",
   "name": "python",
   "nbconvert_exporter": "python",
   "pygments_lexer": "ipython3",
   "version": "3.7.3"
  }
 },
 "nbformat": 4,
 "nbformat_minor": 2
}

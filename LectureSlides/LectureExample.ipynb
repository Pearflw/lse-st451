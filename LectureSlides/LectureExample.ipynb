{
 "cells": [
  {
   "cell_type": "code",
   "execution_count": null,
   "metadata": {},
   "outputs": [],
   "source": [
    "import numpy as np\n",
    "import matplotlib.pyplot as plt #for plots\n",
    "%matplotlib inline"
   ]
  },
  {
   "cell_type": "markdown",
   "metadata": {},
   "source": [
    "### Markov Chain Simulation\n",
    "\n",
    "Simulate the Markov chain with $X_t\\sim N(0.5X_{t-1},1)$ starting at $X_0=8$"
   ]
  },
  {
   "cell_type": "code",
   "execution_count": null,
   "metadata": {},
   "outputs": [],
   "source": [
    "N=200\n",
    "Xa=np.zeros(N) #create an empty vector of length N\n",
    "Xa0=8 \n",
    "Xa[0]=Xa0\n",
    "\n",
    "#loop for a simulation of the Markov Chain\n",
    "for i in range(N-1):\n",
    "    Xa[i+1]=np.random.randn(1)+0.5*Xa[i]\n",
    "    \n",
    "#plot    \n",
    "plt.plot(Xa)\n",
    "plt.ylabel('Xa')"
   ]
  },
  {
   "cell_type": "markdown",
   "metadata": {},
   "source": [
    "### Markov Chain Simulation\n",
    "\n",
    "Repeat starting at $X_0=-7$"
   ]
  },
  {
   "cell_type": "code",
   "execution_count": null,
   "metadata": {},
   "outputs": [],
   "source": [
    "Xb=np.zeros(N) #create an empty vector of length N+1\n",
    "Xb0=-7 \n",
    "Xb[0]=Xb0\n",
    "\n",
    "#loop for a simulation of the Markov Chain\n",
    "for i in range(N-1):\n",
    "    Xb[i+1]=np.random.randn(1)+0.5*Xb[i]\n",
    "\n",
    "plt.plot(Xa, label='Xa')\n",
    "plt.plot(Xb, label='Xb', color='red')\n",
    "plt.legend()"
   ]
  },
  {
   "cell_type": "markdown",
   "metadata": {},
   "source": [
    "### Check against the stationary distribution N(0,1.33$^2$)"
   ]
  },
  {
   "cell_type": "code",
   "execution_count": null,
   "metadata": {},
   "outputs": [],
   "source": [
    "Xc=np.random.randn(N)*np.sqrt(1.333)\n",
    "plt.plot(Xa, label='Xa')\n",
    "plt.plot(Xb, label='Xb', color='red')\n",
    "plt.plot(Xc, label='stationary', color='green')\n",
    "plt.legend()"
   ]
  },
  {
   "cell_type": "markdown",
   "metadata": {},
   "source": [
    "### Use Xa and Xb for Monte Carlo purposes in computins expectations of X"
   ]
  },
  {
   "cell_type": "code",
   "execution_count": null,
   "metadata": {},
   "outputs": [],
   "source": [
    "print(np.mean(Xa),np.mean(Xb))\n",
    "print(np.var(Xa),np.var(Xb))"
   ]
  }
 ],
 "metadata": {
  "kernelspec": {
   "display_name": "Python 3",
   "language": "python",
   "name": "python3"
  },
  "language_info": {
   "codemirror_mode": {
    "name": "ipython",
    "version": 3
   },
   "file_extension": ".py",
   "mimetype": "text/x-python",
   "name": "python",
   "nbconvert_exporter": "python",
   "pygments_lexer": "ipython3",
   "version": "3.7.2"
  }
 },
 "nbformat": 4,
 "nbformat_minor": 2
}

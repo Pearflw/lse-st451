{
 "cells": [
  {
   "cell_type": "code",
   "execution_count": 106,
   "metadata": {},
   "outputs": [],
   "source": [
    "import numpy as np\n",
    "import pandas as pd\n",
    "from scipy import optimize\n",
    "import scipy as sc\n",
    "from sklearn.discriminant_analysis import LinearDiscriminantAnalysis\n",
    "from sklearn.model_selection import train_test_split\n",
    "from sklearn.linear_model import LogisticRegression\n",
    "import matplotlib.pyplot as plt #for plots\n",
    "%matplotlib inline\n",
    "from sklearn.metrics import accuracy_score, log_loss, roc_curve, roc_auc_score \n",
    "import statsmodels.api as sm"
   ]
  },
  {
   "cell_type": "markdown",
   "metadata": {},
   "source": [
    "## Exercise 2"
   ]
  },
  {
   "cell_type": "markdown",
   "metadata": {},
   "source": [
    "#### Load Breast Cancer Survival Data"
   ]
  },
  {
   "cell_type": "code",
   "execution_count": 107,
   "metadata": {},
   "outputs": [
    {
     "data": {
      "text/html": [
       "<div>\n",
       "<style scoped>\n",
       "    .dataframe tbody tr th:only-of-type {\n",
       "        vertical-align: middle;\n",
       "    }\n",
       "\n",
       "    .dataframe tbody tr th {\n",
       "        vertical-align: top;\n",
       "    }\n",
       "\n",
       "    .dataframe thead th {\n",
       "        text-align: right;\n",
       "    }\n",
       "</style>\n",
       "<table border=\"1\" class=\"dataframe\">\n",
       "  <thead>\n",
       "    <tr style=\"text-align: right;\">\n",
       "      <th></th>\n",
       "      <th>age</th>\n",
       "      <th>year</th>\n",
       "      <th>nodes_detected</th>\n",
       "      <th>survival_status</th>\n",
       "    </tr>\n",
       "  </thead>\n",
       "  <tbody>\n",
       "    <tr>\n",
       "      <th>0</th>\n",
       "      <td>30</td>\n",
       "      <td>64</td>\n",
       "      <td>1</td>\n",
       "      <td>1</td>\n",
       "    </tr>\n",
       "    <tr>\n",
       "      <th>1</th>\n",
       "      <td>30</td>\n",
       "      <td>62</td>\n",
       "      <td>3</td>\n",
       "      <td>1</td>\n",
       "    </tr>\n",
       "    <tr>\n",
       "      <th>2</th>\n",
       "      <td>30</td>\n",
       "      <td>65</td>\n",
       "      <td>0</td>\n",
       "      <td>1</td>\n",
       "    </tr>\n",
       "    <tr>\n",
       "      <th>3</th>\n",
       "      <td>31</td>\n",
       "      <td>59</td>\n",
       "      <td>2</td>\n",
       "      <td>1</td>\n",
       "    </tr>\n",
       "    <tr>\n",
       "      <th>4</th>\n",
       "      <td>31</td>\n",
       "      <td>65</td>\n",
       "      <td>4</td>\n",
       "      <td>1</td>\n",
       "    </tr>\n",
       "  </tbody>\n",
       "</table>\n",
       "</div>"
      ],
      "text/plain": [
       "   age  year  nodes_detected  survival_status\n",
       "0   30    64               1                1\n",
       "1   30    62               3                1\n",
       "2   30    65               0                1\n",
       "3   31    59               2                1\n",
       "4   31    65               4                1"
      ]
     },
     "execution_count": 107,
     "metadata": {},
     "output_type": "execute_result"
    }
   ],
   "source": [
    "url_hospital = \"https://archive.ics.uci.edu/ml/machine-learning-databases/haberman/haberman.data\"\n",
    "data1 = pd.read_csv(url_hospital, header=None,\n",
    "        names=['age', 'year', 'nodes_detected', 'survival_status'])\n",
    "data1.head()"
   ]
  },
  {
   "cell_type": "code",
   "execution_count": 108,
   "metadata": {},
   "outputs": [],
   "source": [
    "# define data and create train test splits\n",
    "X = data1.loc[:,['age', 'nodes_detected']].values\n",
    "y = data1.survival_status.replace(2, 0).values.astype(int)\n",
    "X_train, X_test, y_train, y_test = train_test_split(X, y,\n",
    "                        test_size=0.33, random_state=1)"
   ]
  },
  {
   "cell_type": "markdown",
   "metadata": {},
   "source": [
    "We compute the solutions from first principles, using standard python functions. The accompanying chapter in Bishop is 4.2.2. In our setting we have a binary (2-class) classification problem with a sample size 𝑛 n . Our date consistts of pairs of labels and features {(𝑦1,𝑥1),…,(𝑦𝑛,𝑥𝑛)} { ( y 1 , x 1 ) , … , ( y n , x n ) } where 𝑦𝑖∈{0,1} y i ∈ { 0 , 1 } and 𝑥𝑖∈𝑅𝑚 x i ∈ R m . We are interested in the probability 𝑝(𝑦=1|𝑥) p ( y = 1 | x ) . The formulas used are the following equations in Bishop Prior probability of class 0 : 4.73 Mean of features 4.75, 4.76 Covariance matrix 4.78 which we implement below."
   ]
  },
  {
   "cell_type": "code",
   "execution_count": 109,
   "metadata": {},
   "outputs": [
    {
     "data": {
      "text/plain": [
       "(0.2634146341463415, 0.7365853658536585)"
      ]
     },
     "execution_count": 109,
     "metadata": {},
     "output_type": "execute_result"
    }
   ],
   "source": [
    "def prior_prob_class(y):\n",
    "    N1 = len(y[y==0])\n",
    "    N2 = len(y[y==1])\n",
    "    return N1/(N1+N2), 1-N1/(N1+N2)\n",
    "\n",
    "pi = prior_prob_class(y_train)\n",
    "pi"
   ]
  },
  {
   "cell_type": "code",
   "execution_count": 110,
   "metadata": {},
   "outputs": [
    {
     "name": "stdout",
     "output_type": "stream",
     "text": [
      "[51.7037037   7.12962963] [52.87417219  2.37086093]\n"
     ]
    }
   ],
   "source": [
    "def mu_mle(x,y): \n",
    "    mu0 = np.mean(x[y==0], axis=0)\n",
    "    mu1 = np.mean(x[y==1], axis=0)\n",
    "    return mu0, mu1\n",
    "\n",
    "mu0, mu1 = mu_mle(X_train, y_train)\n",
    "print(mu0, mu1)"
   ]
  },
  {
   "cell_type": "code",
   "execution_count": 111,
   "metadata": {},
   "outputs": [
    {
     "data": {
      "text/plain": [
       "array([[1.08692042e+02, 7.86362521e-02],\n",
       "       [7.86362521e-02, 4.02113384e+01]])"
      ]
     },
     "execution_count": 111,
     "metadata": {},
     "output_type": "execute_result"
    }
   ],
   "source": [
    "def S_mle(x, y): \n",
    "    N = len(y)\n",
    "    N1 = len(y[y==1])\n",
    "    N0 = N - N1\n",
    "    k = x.shape[1]\n",
    "\n",
    "    S0 = np.zeros((k,k))\n",
    "    S1 = np.zeros((k,k))\n",
    "    for i in range(int(N)):\n",
    "        if y[i] == 0:\n",
    "            S0 += np.outer((x[i] - mu0), (x[i] - mu0))\n",
    "        else: \n",
    "            S1 += np.outer((x[i] - mu1), (x[i] - mu1))\n",
    "    S = (S0 + S1)/N\n",
    "    return S\n",
    "\n",
    "S = S_mle(X_train, y_train)\n",
    "S"
   ]
  },
  {
   "cell_type": "code",
   "execution_count": null,
   "metadata": {},
   "outputs": [],
   "source": []
  },
  {
   "cell_type": "markdown",
   "metadata": {},
   "source": [
    "## Exercise 3"
   ]
  },
  {
   "cell_type": "markdown",
   "metadata": {},
   "source": [
    "#### Load Credit Card Fraud data"
   ]
  },
  {
   "cell_type": "code",
   "execution_count": 112,
   "metadata": {},
   "outputs": [],
   "source": [
    "fraud = pd.read_csv('CreditCardFraud.csv')\n",
    "X = fraud.drop('Class', axis = 1)\n",
    "y = fraud['Class']\n",
    "X_train, X_test, y_train, y_test = train_test_split(X,y,test_size=0.33, random_state=1)\n",
    "n,p = X_train.shape"
   ]
  },
  {
   "cell_type": "markdown",
   "metadata": {},
   "source": [
    "### Logistic Regression with MLE"
   ]
  },
  {
   "cell_type": "code",
   "execution_count": 113,
   "metadata": {},
   "outputs": [
    {
     "name": "stdout",
     "output_type": "stream",
     "text": [
      "[-4.7776037   0.37510892 -0.32791254 -0.86897572  0.98390799  0.41668093\n",
      " -0.23474311  0.14066784 -0.33407644 -0.13633943 -0.86024711 -0.13711604\n",
      " -0.76939973 -0.44560518 -0.35924513 -0.82105228 -0.08766075 -0.08616026\n",
      " -0.08874027  0.34998046 -0.46553723  0.5435613   1.37169911 -0.12796092\n",
      " -0.32440358 -0.33315859  0.11380487 -1.17870128 -0.28213361]\n"
     ]
    }
   ],
   "source": [
    "logreg = LogisticRegression(fit_intercept=True,solver='lbfgs')\n",
    "logreg.fit(X_train,y_train)\n",
    "intercept = np.array([logreg.intercept_])[0,]\n",
    "coef = np.array(logreg.coef_)[0,].T\n",
    "beta_mle = np.hstack((intercept,coef))\n",
    "print(beta_mle)"
   ]
  },
  {
   "cell_type": "markdown",
   "metadata": {},
   "source": [
    "The following code is only used to add a column of ones to X_test"
   ]
  },
  {
   "cell_type": "code",
   "execution_count": 114,
   "metadata": {},
   "outputs": [],
   "source": [
    "n = len(fraud['Class'])\n",
    "fraud['x0'] = np.ones(n)\n",
    "X = fraud.drop('Class', axis = 1)\n",
    "y = fraud['Class']\n",
    "X_train, X_test, y_train, y_test = train_test_split(X,y,test_size=0.33, random_state=1)\n",
    "n,p = X_train.shape"
   ]
  },
  {
   "cell_type": "markdown",
   "metadata": {},
   "source": [
    "#### Assess predictive ability"
   ]
  },
  {
   "cell_type": "code",
   "execution_count": 115,
   "metadata": {},
   "outputs": [
    {
     "name": "stdout",
     "output_type": "stream",
     "text": [
      "0.4873035066505441 5113.0830518255825\n",
      "0.8189789123196447\n"
     ]
    },
    {
     "data": {
      "image/png": "[encoded data removed]",
      "text/plain": [
       "<Figure size 432x288 with 1 Axes>"
      ]
     },
     "metadata": {
      "needs_background": "light"
     },
     "output_type": "display_data"
    }
   ],
   "source": [
    "predict_probs = sigma(X_test,beta_mle)\n",
    "predict_class = (predict_probs > .5)\n",
    "print(accuracy_score(y_test,predict_class), log_loss(y_test, predict_probs, normalize=False))\n",
    "\n",
    "fpr,tpr,thresholds = roc_curve(y_test,predict_probs)\n",
    "xgrid = np.linspace(0,1,100) \n",
    "plt.plot(fpr,tpr)\n",
    "plt.plot(xgrid,xgrid,'red')\n",
    "AUC_MLE = roc_auc_score(y_test,predict_probs)\n",
    "print(AUC_MLE)"
   ]
  },
  {
   "cell_type": "markdown",
   "metadata": {},
   "source": [
    "### Bayesian Logistic Regression via Laplace approximation"
   ]
  },
  {
   "cell_type": "code",
   "execution_count": 116,
   "metadata": {},
   "outputs": [],
   "source": [
    "def sigma(x,beta):\n",
    "    xbeta = x.dot(beta)\n",
    "    d = 1. + np.exp(-xbeta)\n",
    "    return d**(-1)\n",
    "def nll(beta, x, y):\n",
    "    t = y.T.dot(np.log(sigma(x,beta)))+ (1-y).T.dot(np.log(1.-sigma(x,beta)))\n",
    "    return -t\n",
    "def neg_post(beta, x, y, m0, S0):\n",
    "    logprior =  - .5* (beta-m0).T @ S0 @ (beta-m0)\n",
    "    return  nll(beta, x, y) -  logprior\n",
    "def neg_post_prime(beta, x, y, m0, S0):\n",
    "    return  x.T.dot(sigma(x,beta)-y)+S0.dot(beta-m0)\n",
    "def laplace_prec(beta, x, S0):\n",
    "    n = x.shape[0]  \n",
    "    S = np.diag(sigma(x,beta)*(1-sigma(x,beta)))\n",
    "    prec = S0.values + x.T.dot(S.dot(x))    \n",
    "    return prec\n",
    "def NewtonRaphsonBayesLogReg(beta0,x,y,m0,S0,maxiter,tolerance):\n",
    "    i = 0\n",
    "    beta = beta0\n",
    "    NegLogPost = neg_post(beta, x, y, m0, S0)\n",
    "    AbDiff = 1; #anything bigger than tolerance would do here\n",
    "    while (AbDiff> tolerance) & (i<maxiter):\n",
    "        i =i+1;\n",
    "        print('iteration ',i,' Negative Log Posterior ',NegLogPost, ' AbDiff ', AbDiff)\n",
    "        grad = neg_post_prime(beta, x, y, m0, S0)\n",
    "        H = laplace_prec(beta, x, S0)\n",
    "        H_inv = sc.linalg.inv(H) \n",
    "        beta = beta - H_inv.dot(grad)\n",
    "        NegLogPost_new = neg_post(beta, x, y, m0, S0)\n",
    "        AbDiff = np.abs(NegLogPost_new-NegLogPost)\n",
    "        NegLogPost = NegLogPost_new\n",
    "    if (iter == maxiter):\n",
    "        print('Did not Converge') \n",
    "    return beta, H_inv"
   ]
  },
  {
   "cell_type": "code",
   "execution_count": 117,
   "metadata": {},
   "outputs": [
    {
     "name": "stdout",
     "output_type": "stream",
     "text": [
      "iteration  1  Negative Log Posterior  2326.2019379591784  AbDiff  1\n",
      "iteration  2  Negative Log Posterior  611.9659769930406  AbDiff  1714.2359609661378\n",
      "iteration  3  Negative Log Posterior  331.3039998927475  AbDiff  280.6619771002931\n",
      "iteration  4  Negative Log Posterior  227.55366144428604  AbDiff  103.75033844846149\n",
      "iteration  5  Negative Log Posterior  187.7423571402583  AbDiff  39.81130430402774\n",
      "iteration  6  Negative Log Posterior  177.15594915857793  AbDiff  10.586407981680367\n",
      "iteration  7  Negative Log Posterior  175.80725140199107  AbDiff  1.3486977565868585\n",
      "iteration  8  Negative Log Posterior  175.774316178659  AbDiff  0.03293522333206056\n",
      "iteration  9  Negative Log Posterior  175.7742850747206  AbDiff  3.1103938397336606e-05\n",
      "[ 0.28198824 -0.24036034 -0.76481527  0.77673163  0.37142469 -0.23824019\n",
      "  0.18405456 -0.24565343 -0.03413525 -0.60253519 -0.10885629 -0.62428908\n",
      " -0.37918444 -0.33015746 -0.7030513  -0.02692901 -0.06333472 -0.03785163\n",
      "  0.23129721 -0.31270675  0.48423596  1.21476981 -0.11806043 -0.23744161\n",
      " -0.31141342  0.13101653 -0.86374075 -0.1296387  -4.25341084]\n"
     ]
    }
   ],
   "source": [
    "n,p = X_train.shape\n",
    "beta0 = np.zeros(p)\n",
    "m0 = np.zeros(p)\n",
    "S0 = X_train.T.dot(X_train)/n\n",
    "tolerance = 1e-05\n",
    "maxiter = 100 \n",
    "beta = beta0\n",
    "beta_map, cov = NewtonRaphsonBayesLogReg(beta0,X_train,y_train,m0,S0,maxiter,tolerance)\n",
    "print(beta_map)"
   ]
  },
  {
   "cell_type": "markdown",
   "metadata": {},
   "source": [
    "#### Assess predictive ability"
   ]
  },
  {
   "cell_type": "code",
   "execution_count": 118,
   "metadata": {},
   "outputs": [
    {
     "name": "stdout",
     "output_type": "stream",
     "text": [
      "0.9891172914147521 81.04307985456133\n",
      "0.9872681147930872\n"
     ]
    },
    {
     "data": {
      "image/png": "[encoded data removed]",
      "text/plain": [
       "<Figure size 432x288 with 1 Axes>"
      ]
     },
     "metadata": {
      "needs_background": "light"
     },
     "output_type": "display_data"
    }
   ],
   "source": [
    "N = 10000 #number of Monte Carlo samples\n",
    "betas = np.random.multivariate_normal(beta_map,cov,N)\n",
    "Xbetas = X_test.dot(betas.T)\n",
    "d = 1/(1. + np.exp(-Xbetas))\n",
    "pred_probs_blr = np.mean(d, axis=1)\n",
    "pred_class_blr = (pred_probs_blr > .5)\n",
    "\n",
    "print(accuracy_score(y_test,pred_class_blr), log_loss(y_test, pred_probs_blr, normalize=False))\n",
    "\n",
    "fpr,tpr,thresholds = roc_curve(y_test,pred_probs_blr)\n",
    "xgrid = np.linspace(0,1,100) \n",
    "plt.plot(fpr,tpr)\n",
    "plt.plot(xgrid,xgrid,'red')\n",
    "AUC_BLR = roc_auc_score(y_test,pred_probs_blr)\n",
    "print(AUC_BLR)"
   ]
  },
  {
   "cell_type": "code",
   "execution_count": null,
   "metadata": {},
   "outputs": [],
   "source": []
  },
  {
   "cell_type": "markdown",
   "metadata": {},
   "source": [
    "## Exercise 4"
   ]
  },
  {
   "cell_type": "markdown",
   "metadata": {},
   "source": [
    "#### Load Default Data"
   ]
  },
  {
   "cell_type": "code",
   "execution_count": 119,
   "metadata": {},
   "outputs": [],
   "source": [
    "default = pd.read_csv('Default.csv', header=None,\n",
    "    names=['default','balance','income'])\n",
    "n = len(default['default'])\n",
    "default['x0'] = np.ones(n)\n",
    "predictors = ['x0','balance', 'income']\n",
    "target = ['default']\n",
    "X_train, X_test, y_train, y_test = train_test_split(default[predictors],\n",
    "                        default[target],test_size=0.5, random_state=1)\n",
    "n,p = X_train.shape"
   ]
  },
  {
   "cell_type": "markdown",
   "metadata": {},
   "source": [
    "### Logistic regression via MLE"
   ]
  },
  {
   "cell_type": "code",
   "execution_count": 120,
   "metadata": {},
   "outputs": [],
   "source": [
    "def sigma(x,beta):\n",
    "    xbeta = x.dot(beta)\n",
    "    d = 1. + np.exp(-xbeta)\n",
    "    return d**(-1)\n",
    "def nll(beta, x, y):\n",
    "    t = y.T.dot(np.log(sigma(x,beta)))+ (1-y).T.dot(np.log(1.-sigma(x,beta)))\n",
    "    return -t\n",
    "def fprime(beta,x,y):\n",
    "    return  x.T.dot(sigma(x,beta)-y)\n",
    "def Hessian(beta,x):  \n",
    "    S = np.diag(sigma(x,beta)*(1-sigma(x,beta)))\n",
    "    hes = x.T.dot(S.dot(x))\n",
    "    return hes\n",
    "def NewtonRaphsonLogistReg(beta0,x,y,maxiter,tolerance):\n",
    "    i = 0\n",
    "    beta = beta0\n",
    "    NegLogLike = nll(beta,x,y)\n",
    "    AbDiff = 1; #anything bigger than tolerance would do here\n",
    "    while (AbDiff> tolerance) & (i<maxiter):\n",
    "        i =i+1;\n",
    "        print('iteration ',i,' Negative Log likelihood ',NegLogLike, ' AbDiff ', AbDiff)\n",
    "        grad = fprime(beta,x,y)\n",
    "        H = Hessian(beta,x)\n",
    "        H_inv = sc.linalg.inv(H) \n",
    "        beta = beta - H_inv.dot(grad)\n",
    "        NegLogLike_new = nll(beta,x,y)\n",
    "        AbDiff = np.abs(NegLogLike_new-NegLogLike)\n",
    "        NegLogLike = NegLogLike_new\n",
    "    if (iter == maxiter):\n",
    "        print('Did not Converge') \n",
    "    return beta, H_inv"
   ]
  },
  {
   "cell_type": "code",
   "execution_count": 121,
   "metadata": {},
   "outputs": [
    {
     "name": "stdout",
     "output_type": "stream",
     "text": [
      "iteration  1  Negative Log likelihood  3465.7359027997277  AbDiff  1\n",
      "iteration  2  Negative Log likelihood  979.1317064957278  AbDiff  2486.6041963039997\n",
      "iteration  3  Negative Log likelihood  618.4035486691278  AbDiff  360.72815782660007\n",
      "iteration  4  Negative Log likelihood  472.3712181591759  AbDiff  146.03233050995186\n",
      "iteration  5  Negative Log likelihood  413.267313612353  AbDiff  59.10390454682289\n",
      "iteration  6  Negative Log likelihood  397.0260718349252  AbDiff  16.24124177742783\n",
      "iteration  7  Negative Log likelihood  395.1729189864142  AbDiff  1.8531528485110016\n",
      "iteration  8  Negative Log likelihood  395.1389735528322  AbDiff  0.03394543358194824\n",
      "iteration  9  Negative Log likelihood  395.1389594614442  AbDiff  1.409138803865062e-05\n",
      "[-1.16341953e+01  5.84263038e-03  1.63504439e-05]\n"
     ]
    }
   ],
   "source": [
    "n,p = X_train.shape\n",
    "beta0 = np.zeros(p)\n",
    "tolerance = 1e-05\n",
    "maxiter = 100 \n",
    "beta = beta0\n",
    "beta_mle, cov = NewtonRaphsonLogistReg(beta0,X_train,y_train['default'],maxiter,tolerance)\n",
    "print(beta_mle)"
   ]
  },
  {
   "cell_type": "markdown",
   "metadata": {},
   "source": [
    "Check by using yhe **statsmodels** library"
   ]
  },
  {
   "cell_type": "code",
   "execution_count": 123,
   "metadata": {},
   "outputs": [
    {
     "name": "stdout",
     "output_type": "stream",
     "text": [
      "Optimization terminated successfully.\n",
      "         Current function value: 0.079028\n",
      "         Iterations 10\n"
     ]
    },
    {
     "data": {
      "text/html": [
       "<table class=\"simpletable\">\n",
       "<caption>Logit Regression Results</caption>\n",
       "<tr>\n",
       "  <th>Dep. Variable:</th>      <td>default</td>     <th>  No. Observations:  </th>   <td>  5000</td>  \n",
       "</tr>\n",
       "<tr>\n",
       "  <th>Model:</th>               <td>Logit</td>      <th>  Df Residuals:      </th>   <td>  4997</td>  \n",
       "</tr>\n",
       "<tr>\n",
       "  <th>Method:</th>               <td>MLE</td>       <th>  Df Model:          </th>   <td>     2</td>  \n",
       "</tr>\n",
       "<tr>\n",
       "  <th>Date:</th>          <td>Tue, 24 Dec 2019</td> <th>  Pseudo R-squ.:     </th>   <td>0.4768</td>  \n",
       "</tr>\n",
       "<tr>\n",
       "  <th>Time:</th>              <td>00:02:53</td>     <th>  Log-Likelihood:    </th>  <td> -395.14</td> \n",
       "</tr>\n",
       "<tr>\n",
       "  <th>converged:</th>           <td>True</td>       <th>  LL-Null:           </th>  <td> -755.25</td> \n",
       "</tr>\n",
       "<tr>\n",
       "  <th> </th>                      <td> </td>        <th>  LLR p-value:       </th> <td>4.024e-157</td>\n",
       "</tr>\n",
       "</table>\n",
       "<table class=\"simpletable\">\n",
       "<tr>\n",
       "     <td></td>        <th>coef</th>     <th>std err</th>      <th>z</th>      <th>P>|z|</th>  <th>[0.025</th>    <th>0.975]</th>  \n",
       "</tr>\n",
       "<tr>\n",
       "  <th>const</th>   <td>  -11.6342</td> <td>    0.620</td> <td>  -18.763</td> <td> 0.000</td> <td>  -12.850</td> <td>  -10.419</td>\n",
       "</tr>\n",
       "<tr>\n",
       "  <th>balance</th> <td>    0.0058</td> <td>    0.000</td> <td>   17.791</td> <td> 0.000</td> <td>    0.005</td> <td>    0.006</td>\n",
       "</tr>\n",
       "<tr>\n",
       "  <th>income</th>  <td> 1.635e-05</td> <td> 7.15e-06</td> <td>    2.287</td> <td> 0.022</td> <td> 2.34e-06</td> <td> 3.04e-05</td>\n",
       "</tr>\n",
       "</table><br/><br/>Possibly complete quasi-separation: A fraction 0.16 of observations can be<br/>perfectly predicted. This might indicate that there is complete<br/>quasi-separation. In this case some parameters will not be identified."
      ],
      "text/plain": [
       "<class 'statsmodels.iolib.summary.Summary'>\n",
       "\"\"\"\n",
       "                           Logit Regression Results                           \n",
       "==============================================================================\n",
       "Dep. Variable:                default   No. Observations:                 5000\n",
       "Model:                          Logit   Df Residuals:                     4997\n",
       "Method:                           MLE   Df Model:                            2\n",
       "Date:                Tue, 24 Dec 2019   Pseudo R-squ.:                  0.4768\n",
       "Time:                        00:02:53   Log-Likelihood:                -395.14\n",
       "converged:                       True   LL-Null:                       -755.25\n",
       "                                        LLR p-value:                4.024e-157\n",
       "==============================================================================\n",
       "                 coef    std err          z      P>|z|      [0.025      0.975]\n",
       "------------------------------------------------------------------------------\n",
       "const        -11.6342      0.620    -18.763      0.000     -12.850     -10.419\n",
       "balance        0.0058      0.000     17.791      0.000       0.005       0.006\n",
       "income      1.635e-05   7.15e-06      2.287      0.022    2.34e-06    3.04e-05\n",
       "==============================================================================\n",
       "\n",
       "Possibly complete quasi-separation: A fraction 0.16 of observations can be\n",
       "perfectly predicted. This might indicate that there is complete\n",
       "quasi-separation. In this case some parameters will not be identified.\n",
       "\"\"\""
      ]
     },
     "execution_count": 123,
     "metadata": {},
     "output_type": "execute_result"
    }
   ],
   "source": [
    "predictors = ['balance','income']\n",
    "Xt = X_train[predictors]\n",
    "Xt = sm.add_constant(Xt)\n",
    "yt = y_train['default']\n",
    "model = sm.Logit(yt, Xt).fit()\n",
    "model.summary()"
   ]
  },
  {
   "cell_type": "markdown",
   "metadata": {},
   "source": [
    "#### Assess predictive ability"
   ]
  },
  {
   "cell_type": "code",
   "execution_count": 124,
   "metadata": {},
   "outputs": [
    {
     "name": "stdout",
     "output_type": "stream",
     "text": [
      "0.975 default    395.960166\n",
      "dtype: float64\n",
      "0.9436183854107798\n"
     ]
    },
    {
     "data": {
      "image/png": "[encoded data removed]",
      "text/plain": [
       "<Figure size 432x288 with 1 Axes>"
      ]
     },
     "metadata": {
      "needs_background": "light"
     },
     "output_type": "display_data"
    }
   ],
   "source": [
    "predict_probs = sigma(X_test,beta_mle)\n",
    "predict_class = (predict_probs > .5)\n",
    "\n",
    "AccRate_MLE = np.sum(predict_class==y_test['default'])/len(y_test) \n",
    "LS_MLE = -(y_test.T.dot(np.log(predict_probs))+(1-y_test).T.dot(np.log(1-predict_probs)))\n",
    "\n",
    "print(AccRate_MLE, LS_MLE)\n",
    "#print(accuracy_score(y_test,predict_class), log_loss(y_test, predict_probs, normalize=False))\n",
    "\n",
    "fpr,tpr,thresholds = roc_curve(y_test,predict_probs)\n",
    "xgrid = np.linspace(0,1,100) \n",
    "plt.plot(fpr,tpr)\n",
    "plt.plot(xgrid,xgrid,'red')\n",
    "AUC_MLE = roc_auc_score(y_test,predict_probs)\n",
    "print(AUC_MLE)"
   ]
  },
  {
   "cell_type": "markdown",
   "metadata": {},
   "source": [
    "### Bayesian Logistic Regression via Laplace"
   ]
  },
  {
   "cell_type": "code",
   "execution_count": 125,
   "metadata": {},
   "outputs": [],
   "source": [
    "def neg_post(beta, x, y, m0, S0):\n",
    "    logprior =  - .5* (beta-m0).T @ S0 @ (beta-m0)\n",
    "    return  nll(beta, x, y) -  logprior\n",
    "def neg_post_prime(beta, x, y, m0, S0):\n",
    "    return  x.T.dot(sigma(x,beta)-y)+S0.dot(beta-m0)\n",
    "def laplace_prec(beta, x, S0):\n",
    "    n = x.shape[0]  \n",
    "    S = np.diag(sigma(x,beta)*(1-sigma(x,beta)))\n",
    "    prec = S0.values + x.T.dot(S.dot(x))    \n",
    "    return prec\n",
    "def NewtonRaphsonBayesLogReg(beta0,x,y,m0,S0,maxiter,tolerance):\n",
    "    i = 0\n",
    "    beta = beta0\n",
    "    NegLogPost = neg_post(beta, x, y, m0, S0)\n",
    "    AbDiff = 1; #anything bigger than tolerance would do here\n",
    "    while (AbDiff> tolerance) & (i<maxiter):\n",
    "        i =i+1;\n",
    "        print('iteration ',i,' Negative Log Posterior ',NegLogPost, ' AbDiff ', AbDiff)\n",
    "        grad = neg_post_prime(beta, x, y, m0, S0)\n",
    "        H = laplace_prec(beta, x, S0)\n",
    "        H_inv = sc.linalg.inv(H) \n",
    "        beta = beta - H_inv.dot(grad)\n",
    "        NegLogPost_new = neg_post(beta, x, y, m0, S0)\n",
    "        AbDiff = np.abs(NegLogPost_new-NegLogPost)\n",
    "        NegLogPost = NegLogPost_new\n",
    "    if (iter == maxiter):\n",
    "        print('Did not Converge') \n",
    "    return beta, H_inv"
   ]
  },
  {
   "cell_type": "code",
   "execution_count": 126,
   "metadata": {},
   "outputs": [
    {
     "name": "stdout",
     "output_type": "stream",
     "text": [
      "iteration  1  Negative Log Posterior  3465.7359027997277  AbDiff  1\n",
      "iteration  2  Negative Log Posterior  981.6977584684697  AbDiff  2484.038144331258\n",
      "iteration  3  Negative Log Posterior  623.9847465769574  AbDiff  357.71301189151234\n",
      "iteration  4  Negative Log Posterior  482.65103757722204  AbDiff  141.33370899973534\n",
      "iteration  5  Negative Log Posterior  429.4228720927182  AbDiff  53.22816548450385\n",
      "iteration  6  Negative Log Posterior  417.3691294032946  AbDiff  12.053742689423586\n",
      "iteration  7  Negative Log Posterior  416.4919565296256  AbDiff  0.8771728736689965\n",
      "iteration  8  Negative Log Posterior  416.48581905859317  AbDiff  0.006137471032445774\n",
      "[-1.06862902e+01  5.31146453e-03  1.47570646e-05]\n"
     ]
    }
   ],
   "source": [
    "n,p = X_train.shape\n",
    "beta0 = np.zeros(p)\n",
    "m0 = np.zeros(p)\n",
    "S0 = X_train.T.dot(X_train)/n\n",
    "tolerance = 1e-05\n",
    "maxiter = 100 \n",
    "beta = beta0\n",
    "beta_map, cov = NewtonRaphsonBayesLogReg(beta0,X_train,y_train['default'],m0,S0,maxiter,tolerance)\n",
    "print(beta_map)"
   ]
  },
  {
   "cell_type": "markdown",
   "metadata": {},
   "source": [
    "#### Assess predictive ability"
   ]
  },
  {
   "cell_type": "code",
   "execution_count": 127,
   "metadata": {},
   "outputs": [],
   "source": [
    "N = 10000 #number of Monte Carlo samples\n",
    "betas = np.random.multivariate_normal(beta_map,cov,N)\n",
    "Xbetas = X_test.dot(betas.T)\n",
    "d = 1/(1. + np.exp(-Xbetas))\n",
    "pred_probs_blr = np.mean(d, axis=1)"
   ]
  },
  {
   "cell_type": "code",
   "execution_count": 128,
   "metadata": {},
   "outputs": [
    {
     "name": "stdout",
     "output_type": "stream",
     "text": [
      "0.975 default    396.229489\n",
      "dtype: float64\n",
      "0.9436144878845396\n"
     ]
    },
    {
     "data": {
      "image/png": "[encoded data removed]",
      "text/plain": [
       "<Figure size 432x288 with 1 Axes>"
      ]
     },
     "metadata": {
      "needs_background": "light"
     },
     "output_type": "display_data"
    }
   ],
   "source": [
    "pred_class_blr = (pred_probs_blr > .5)\n",
    "\n",
    "AccRate_MLE = np.sum(predict_class==y_test['default'])/len(y_test) \n",
    "LS_MLE = -(y_test.T.dot(np.log(pred_probs_blr))+(1-y_test).T.dot(np.log(1-pred_probs_blr)))\n",
    "\n",
    "print(AccRate_MLE, LS_MLE)\n",
    "#print(accuracy_score(y_test,predict_class), log_loss(y_test, predict_probs, normalize=False))\n",
    "\n",
    "fpr,tpr,thresholds = roc_curve(y_test,pred_probs_blr)\n",
    "xgrid = np.linspace(0,1,100) \n",
    "plt.plot(fpr,tpr)\n",
    "plt.plot(xgrid,xgrid,'red')\n",
    "AUC_MLE = roc_auc_score(y_test,pred_probs_blr)\n",
    "print(AUC_MLE)"
   ]
  },
  {
   "cell_type": "markdown",
   "metadata": {},
   "source": [
    "### Linear Discriminant Analysis"
   ]
  },
  {
   "cell_type": "code",
   "execution_count": 129,
   "metadata": {},
   "outputs": [
    {
     "name": "stdout",
     "output_type": "stream",
     "text": [
      "[[1.00000000e+00 8.01750154e+02 3.36653730e+04]\n",
      " [1.00000000e+00 1.75613784e+03 3.16574825e+04]] [0.9652 0.0348] [[ 0.00000000e+00  0.00000000e+00  0.00000000e+00]\n",
      " [ 0.00000000e+00  2.02757074e+05 -9.05741455e+05]\n",
      " [ 0.00000000e+00 -9.05741455e+05  1.77606155e+08]]\n"
     ]
    }
   ],
   "source": [
    "clf = LinearDiscriminantAnalysis(solver='lsqr',store_covariance=True)\n",
    "clf.fit(X_train, y_train['default'])\n",
    "print(clf.means_, clf.priors_, clf.covariance_)\n",
    "pred_probs_lda = clf.predict_proba(X_test)\n",
    "pred_probs_lda = pred_probs_lda[:,1]"
   ]
  },
  {
   "cell_type": "markdown",
   "metadata": {},
   "source": [
    "#### Assess predictive ability"
   ]
  },
  {
   "cell_type": "code",
   "execution_count": 131,
   "metadata": {},
   "outputs": [
    {
     "name": "stdout",
     "output_type": "stream",
     "text": [
      "0.9742 default    397.126452\n",
      "dtype: float64\n",
      "0.9435950002533392\n"
     ]
    },
    {
     "data": {
      "image/png": "[encoded data removed]",
      "text/plain": [
       "<Figure size 432x288 with 1 Axes>"
      ]
     },
     "metadata": {
      "needs_background": "light"
     },
     "output_type": "display_data"
    }
   ],
   "source": [
    "pred_class_lda = (pred_probs_lda > .5)\n",
    "\n",
    "AccRate_LDA = np.sum(pred_class_lda==y_test['default'])/len(y_test) \n",
    "LS_LDA = -(y_test.T.dot(np.log(pred_probs_lda))+(1-y_test).T.dot(np.log(1-pred_probs_lda)))\n",
    "\n",
    "print(AccRate_LDA, LS_LDA)\n",
    "#print(accuracy_score(y_test,predict_class), log_loss(y_test, predict_probs, normalize=False))\n",
    "\n",
    "fpr,tpr,thresholds = roc_curve(y_test,pred_probs_lda)\n",
    "xgrid = np.linspace(0,1,100) \n",
    "plt.plot(fpr,tpr)\n",
    "plt.plot(xgrid,xgrid,'red')\n",
    "AUC_MLE = roc_auc_score(y_test,pred_probs_lda)\n",
    "print(AUC_MLE)"
   ]
  },
  {
   "cell_type": "code",
   "execution_count": null,
   "metadata": {},
   "outputs": [],
   "source": []
  }
 ],
 "metadata": {
  "kernelspec": {
   "display_name": "Python 3",
   "language": "python",
   "name": "python3"
  },
  "language_info": {
   "codemirror_mode": {
    "name": "ipython",
    "version": 3
   },
   "file_extension": ".py",
   "mimetype": "text/x-python",
   "name": "python",
   "nbconvert_exporter": "python",
   "pygments_lexer": "ipython3",
   "version": "3.7.3"
  }
 },
 "nbformat": 4,
 "nbformat_minor": 2
}

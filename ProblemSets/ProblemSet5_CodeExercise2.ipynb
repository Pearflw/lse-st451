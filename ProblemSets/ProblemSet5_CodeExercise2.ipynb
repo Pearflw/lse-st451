{
 "cells": [
  {
   "cell_type": "code",
   "execution_count": 31,
   "metadata": {},
   "outputs": [],
   "source": [
    "import numpy as np\n",
    "import matplotlib.pyplot as plt #for plots\n",
    "%matplotlib inline"
   ]
  },
  {
   "cell_type": "markdown",
   "metadata": {},
   "source": [
    "### Mean Field approximation \n",
    "\n",
    "We will first simulate $100$ independent observations from the model \n",
    "\n",
    "$$\n",
    "y\\sim N(\\mu, \\sigma^{2})\n",
    "$$\n",
    "\n",
    "with $\\mu=5$ and $\\sigma^{2}=2$.\n",
    "\n",
    "Then we will treat $\\mu$ and $\\sigma^2$ as unknown and will use the mean field approximation algorithm to estimated them. "
   ]
  },
  {
   "cell_type": "code",
   "execution_count": 48,
   "metadata": {},
   "outputs": [],
   "source": [
    "#Set parameters and simulate data\n",
    "n = 1000\n",
    "mu = 3\n",
    "var = 2\n",
    "std = np.sqrt(var)\n",
    "y = mu + std*np.random.randn(n)\n",
    "\n",
    "#Set prior hyperparameters\n",
    "mu0 = 0\n",
    "omega2 = 1 #unit information prior\n",
    "iomega2 =1/omega2\n",
    "a0 = 0.001\n",
    "b0 = 0.001\n",
    "\n",
    "\n",
    "# get sufficient stats\n",
    "Sy = np.sum(y)\n",
    "Sy2 = np.sum(y**2)\n",
    "m02 = mu0**2"
   ]
  },
  {
   "cell_type": "code",
   "execution_count": 49,
   "metadata": {},
   "outputs": [
    {
     "name": "stdout",
     "output_type": "stream",
     "text": [
      "Converged at  4  iterations\n"
     ]
    },
    {
     "data": {
      "text/html": [
       "<div>\n",
       "<style scoped>\n",
       "    .dataframe tbody tr th:only-of-type {\n",
       "        vertical-align: middle;\n",
       "    }\n",
       "\n",
       "    .dataframe tbody tr th {\n",
       "        vertical-align: top;\n",
       "    }\n",
       "\n",
       "    .dataframe thead th {\n",
       "        text-align: right;\n",
       "    }\n",
       "</style>\n",
       "<table border=\"1\" class=\"dataframe\">\n",
       "  <thead>\n",
       "    <tr style=\"text-align: right;\">\n",
       "      <th></th>\n",
       "      <th>muf</th>\n",
       "      <th>sigma2</th>\n",
       "      <th>sigma2f</th>\n",
       "    </tr>\n",
       "  </thead>\n",
       "  <tbody>\n",
       "    <tr>\n",
       "      <th>VB</th>\n",
       "      <td>2.973552</td>\n",
       "      <td>1.886722</td>\n",
       "      <td>0.001881</td>\n",
       "    </tr>\n",
       "    <tr>\n",
       "      <th>MLE</th>\n",
       "      <td>2.976525</td>\n",
       "      <td>1.874103</td>\n",
       "      <td>0.001874</td>\n",
       "    </tr>\n",
       "  </tbody>\n",
       "</table>\n",
       "</div>"
      ],
      "text/plain": [
       "          muf    sigma2   sigma2f\n",
       "VB   2.973552  1.886722  0.001881\n",
       "MLE  2.976525  1.874103  0.001874"
      ]
     },
     "execution_count": 49,
     "metadata": {},
     "output_type": "execute_result"
    }
   ],
   "source": [
    "#set and initialise parameters\n",
    "muf = (iomega2*mu0+Sy)/(iomega2+n)\n",
    "sigma2f = 10\n",
    "af = a0+(n+1)/2\n",
    "bf = 1\n",
    "\n",
    "#algorithmic parameters\n",
    "maxiter = 1000\n",
    "tol = 0.0000001\n",
    "\n",
    "#objects to store the values of the parameters to be optimised.\n",
    "Thetas = np.ones((maxiter,2))\n",
    "Thetas[0,] = np.array([sigma2f,bf])\n",
    "\n",
    "#main while loop\n",
    "iter = 0\n",
    "diff = 1 \n",
    "while (iter<maxiter) and (diff>tol):\n",
    "    iter = iter+1\n",
    "    sigma2f = (bf/af)/(n+iomega2)   \n",
    "    Emu2 = sigma2f+muf**2   \n",
    "    bf = b0+0.5*(Sy2-2*muf*Sy+n*Emu2)+0.5*iomega2*(m02 - 2*muf*mu0 + Emu2)\n",
    "    Thetas[iter,] = np.array([sigma2f,bf])\n",
    "    dThetas = (Thetas[iter,]-Thetas[iter-1,])**2\n",
    "    diff = np.max(dThetas)\n",
    "\n",
    "#summarise output\n",
    "sigma2f = Thetas[iter,0]\n",
    "bf = Thetas[iter,1]\n",
    "print('Converged at ',iter,' iterations')\n",
    "results = np.array([[muf,bf/(af-1),sigma2f],[np.mean(y),np.var(y),np.var(y)/n]])\n",
    "col = ['muf','sigma2','sigma2f']\n",
    "ind = ['VB','MLE']\n",
    "results = pd.DataFrame(results,columns = col,index=ind)\n",
    "results\n"
   ]
  },
  {
   "cell_type": "code",
   "execution_count": null,
   "metadata": {},
   "outputs": [],
   "source": []
  }
 ],
 "metadata": {
  "kernelspec": {
   "display_name": "Python 3",
   "language": "python",
   "name": "python3"
  },
  "language_info": {
   "codemirror_mode": {
    "name": "ipython",
    "version": 3
   },
   "file_extension": ".py",
   "mimetype": "text/x-python",
   "name": "python",
   "nbconvert_exporter": "python",
   "pygments_lexer": "ipython3",
   "version": "3.7.3"
  }
 },
 "nbformat": 4,
 "nbformat_minor": 2
}

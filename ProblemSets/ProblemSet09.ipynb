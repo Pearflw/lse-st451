{
 "cells": [
  {
   "cell_type": "code",
   "execution_count": 14,
   "metadata": {},
   "outputs": [],
   "source": [
    "import numpy as np\n",
    "from numpy.linalg import inv\n",
    "from scipy.stats import multivariate_normal\n",
    "from matplotlib import pyplot as plt"
   ]
  },
  {
   "cell_type": "markdown",
   "metadata": {},
   "source": [
    "### Problem Set 9\n",
    "\n",
    "The Linear Gaussian State Space Models are defined as\n",
    "\\begin{eqnarray*}\n",
    "z_t &=& A\\; z_{t-1} +B\\; u_t +\\epsilon_t, \\;\\;\\; \\epsilon_t \\sim N(0,Q)\\\\\n",
    "x_t &=& C\\; z_t+D\\; u_t + \\delta_t, \\;\\;\\;\\delta_t\\sim N(0, R).\\\\\n",
    "\\end{eqnarray*}\n",
    "\n",
    "To confirm that this models belongs to the above category we can set $z_t=x_t$, $x_t=y_t$, $A=1$, $B=0$, $C=1$, $D=\\mu$, $u_t=1$, $Q=\\sigma^2$, $R=\\omega^2$.\n"
   ]
  },
  {
   "cell_type": "markdown",
   "metadata": {},
   "source": [
    "### Simulate Data\n",
    "\n",
    "Simulate data $100$ points from the model of Exercise 1, setting $\\mu=\\sigma^2=\\omega^2=1$. Consider $\\sigma^2$ and $\\omega^2$ known and find the MLE of $\\mu$ by evaluating the likelihood at a grid of points between $0$ and $2$."
   ]
  },
  {
   "cell_type": "code",
   "execution_count": 43,
   "metadata": {},
   "outputs": [],
   "source": [
    "n=100\n",
    "mutrue = 1\n",
    "sigmatrue = 1\n",
    "omegatrue =1\n",
    "z = np.zeros(n)\n",
    "for i in range(n-1):\n",
    "    z[i+1] = z[i] + sigmatrue*np.random.randn(1)\n",
    "x = z+mutrue+omegatrue*np.random.randn(n)\n",
    "\n",
    "# Initial Conditions\n",
    "mu0 = 0\n",
    "Sigma0 = sigmatrue**2"
   ]
  },
  {
   "cell_type": "markdown",
   "metadata": {},
   "source": [
    "### Run the Kalman filter"
   ]
  },
  {
   "cell_type": "code",
   "execution_count": 44,
   "metadata": {},
   "outputs": [],
   "source": [
    "def KFlogL(x,mu0,Sigma0,mu):\n",
    "    A = 1\n",
    "    B = 0\n",
    "    C = 1\n",
    "    D = mu\n",
    "    u = 1\n",
    "    Q = sigmatrue**2\n",
    "    R = omegatrue**2\n",
    "    mu = mu0\n",
    "    Sigma = Sigma0\n",
    "    logL = 0\n",
    "\n",
    "    for i in range(n):    \n",
    "        #Prediction\n",
    "        mu = A*mu + B*u\n",
    "        Sigma  = A*Sigma*A+Q        \n",
    "    \n",
    "        #Kalman Gain\n",
    "        S = C*Sigma*C + R\n",
    "        K = Sigma*C/S\n",
    "\n",
    "        #Calculate log likelihood based on the i-th measurement\n",
    "        M = C*mu + D*u \n",
    "        logL = logL + multivariate_normal.logpdf(x[i], mean=M, cov=S)\n",
    "    \n",
    "        # Correction\n",
    "        mu = mu + K*(x[i]- C*mu- D*u)\n",
    "        Sigma = (1 - K*C)*Sigma    \n",
    "    \n",
    "    return logL "
   ]
  },
  {
   "cell_type": "code",
   "execution_count": 45,
   "metadata": {},
   "outputs": [],
   "source": [
    "mugrid = np.linspace(0,2,200)\n",
    "logLs = np.zeros(200)\n",
    "for i in range(200):\n",
    "    mu = mugrid[i]\n",
    "    logLs[i] = KFlogL(x,mu0,Sigma0,mu)"
   ]
  },
  {
   "cell_type": "code",
   "execution_count": 46,
   "metadata": {},
   "outputs": [
    {
     "data": {
      "text/plain": [
       "Text(0,0.5,'log likelihood')"
      ]
     },
     "execution_count": 46,
     "metadata": {},
     "output_type": "execute_result"
    },
    {
     "data": {
      "image/png": "[encoded data removed]",
      "text/plain": [
       "<Figure size 432x288 with 1 Axes>"
      ]
     },
     "metadata": {
      "needs_background": "light"
     },
     "output_type": "display_data"
    }
   ],
   "source": [
    "plt.plot(mugrid,logLs)\n",
    "plt.xlabel('mu')\n",
    "plt.ylabel('log likelihood')"
   ]
  },
  {
   "cell_type": "code",
   "execution_count": 47,
   "metadata": {},
   "outputs": [
    {
     "name": "stdout",
     "output_type": "stream",
     "text": [
      "MLE of mu:\n",
      "0.8442211055276382\n"
     ]
    }
   ],
   "source": [
    "max_ind = np.argmax(logLs)\n",
    "mu_MLE = mugrid[max_ind]\n",
    "print('MLE of mu:')\n",
    "print(mu_MLE)"
   ]
  },
  {
   "cell_type": "code",
   "execution_count": null,
   "metadata": {},
   "outputs": [],
   "source": []
  }
 ],
 "metadata": {
  "kernelspec": {
   "display_name": "Python 3",
   "language": "python",
   "name": "python3"
  },
  "language_info": {
   "codemirror_mode": {
    "name": "ipython",
    "version": 3
   },
   "file_extension": ".py",
   "mimetype": "text/x-python",
   "name": "python",
   "nbconvert_exporter": "python",
   "pygments_lexer": "ipython3",
   "version": "3.7.2"
  }
 },
 "nbformat": 4,
 "nbformat_minor": 2
}
